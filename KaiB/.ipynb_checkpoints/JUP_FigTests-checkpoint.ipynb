{
 "cells": [
  {
   "cell_type": "markdown",
   "id": "3c352a8e-1d69-4883-9bff-f244af102e8c",
   "metadata": {},
   "source": [
    "# TESTS WITH INTERNET DATA"
   ]
  },
  {
   "cell_type": "code",
   "execution_count": 1,
   "id": "ddcfccdf-7d62-491e-b26a-c091e8edff6a",
   "metadata": {},
   "outputs": [
    {
     "data": {
      "text/html": [
       "<div>\n",
       "<style scoped>\n",
       "    .dataframe tbody tr th:only-of-type {\n",
       "        vertical-align: middle;\n",
       "    }\n",
       "\n",
       "    .dataframe tbody tr th {\n",
       "        vertical-align: top;\n",
       "    }\n",
       "\n",
       "    .dataframe thead th {\n",
       "        text-align: right;\n",
       "    }\n",
       "</style>\n",
       "<table border=\"1\" class=\"dataframe\">\n",
       "  <thead>\n",
       "    <tr style=\"text-align: right;\">\n",
       "      <th></th>\n",
       "      <th>Entity</th>\n",
       "      <th>Code</th>\n",
       "      <th>Year</th>\n",
       "      <th>Individuals using the Internet (% of population)</th>\n",
       "    </tr>\n",
       "  </thead>\n",
       "  <tbody>\n",
       "    <tr>\n",
       "      <th>0</th>\n",
       "      <td>Afghanistan</td>\n",
       "      <td>AFG</td>\n",
       "      <td>1990</td>\n",
       "      <td>0.0</td>\n",
       "    </tr>\n",
       "    <tr>\n",
       "      <th>1</th>\n",
       "      <td>Afghanistan</td>\n",
       "      <td>AFG</td>\n",
       "      <td>1991</td>\n",
       "      <td>0.0</td>\n",
       "    </tr>\n",
       "    <tr>\n",
       "      <th>2</th>\n",
       "      <td>Afghanistan</td>\n",
       "      <td>AFG</td>\n",
       "      <td>1992</td>\n",
       "      <td>0.0</td>\n",
       "    </tr>\n",
       "    <tr>\n",
       "      <th>3</th>\n",
       "      <td>Afghanistan</td>\n",
       "      <td>AFG</td>\n",
       "      <td>1993</td>\n",
       "      <td>0.0</td>\n",
       "    </tr>\n",
       "    <tr>\n",
       "      <th>4</th>\n",
       "      <td>Afghanistan</td>\n",
       "      <td>AFG</td>\n",
       "      <td>1994</td>\n",
       "      <td>0.0</td>\n",
       "    </tr>\n",
       "  </tbody>\n",
       "</table>\n",
       "</div>"
      ],
      "text/plain": [
       "        Entity Code  Year  Individuals using the Internet (% of population)\n",
       "0  Afghanistan  AFG  1990                                               0.0\n",
       "1  Afghanistan  AFG  1991                                               0.0\n",
       "2  Afghanistan  AFG  1992                                               0.0\n",
       "3  Afghanistan  AFG  1993                                               0.0\n",
       "4  Afghanistan  AFG  1994                                               0.0"
      ]
     },
     "execution_count": 1,
     "metadata": {},
     "output_type": "execute_result"
    }
   ],
   "source": [
    "import pandas as pd\n",
    "import plotly.express as px\n",
    "import json\n",
    "import plotly.graph_objects as go\n",
    "\n",
    "# Read in the data\n",
    "\n",
    "df_int = pd.read_csv(\"data/share-of-individuals-using-the-internet.csv\")\n",
    "df_int.head()"
   ]
  },
  {
   "cell_type": "code",
   "execution_count": 2,
   "id": "6e584af9-0196-48e5-949f-7f93f6458972",
   "metadata": {},
   "outputs": [
    {
     "data": {
      "text/html": [
       "<div>\n",
       "<style scoped>\n",
       "    .dataframe tbody tr th:only-of-type {\n",
       "        vertical-align: middle;\n",
       "    }\n",
       "\n",
       "    .dataframe tbody tr th {\n",
       "        vertical-align: top;\n",
       "    }\n",
       "\n",
       "    .dataframe thead th {\n",
       "        text-align: right;\n",
       "    }\n",
       "</style>\n",
       "<table border=\"1\" class=\"dataframe\">\n",
       "  <thead>\n",
       "    <tr style=\"text-align: right;\">\n",
       "      <th></th>\n",
       "      <th>Code</th>\n",
       "      <th>most_recent_year</th>\n",
       "      <th>Entity</th>\n",
       "      <th>Year</th>\n",
       "      <th>Individuals using the Internet (% of population)</th>\n",
       "    </tr>\n",
       "  </thead>\n",
       "  <tbody>\n",
       "    <tr>\n",
       "      <th>25</th>\n",
       "      <td>ABW</td>\n",
       "      <td>2017</td>\n",
       "      <td>Aruba</td>\n",
       "      <td>2017</td>\n",
       "      <td>97.170000</td>\n",
       "    </tr>\n",
       "    <tr>\n",
       "      <th>47</th>\n",
       "      <td>AFG</td>\n",
       "      <td>2017</td>\n",
       "      <td>Afghanistan</td>\n",
       "      <td>2017</td>\n",
       "      <td>11.447688</td>\n",
       "    </tr>\n",
       "    <tr>\n",
       "      <th>75</th>\n",
       "      <td>AGO</td>\n",
       "      <td>2017</td>\n",
       "      <td>Angola</td>\n",
       "      <td>2017</td>\n",
       "      <td>14.339079</td>\n",
       "    </tr>\n",
       "    <tr>\n",
       "      <th>104</th>\n",
       "      <td>ALB</td>\n",
       "      <td>2019</td>\n",
       "      <td>Albania</td>\n",
       "      <td>2019</td>\n",
       "      <td>69.642855</td>\n",
       "    </tr>\n",
       "    <tr>\n",
       "      <th>131</th>\n",
       "      <td>AND</td>\n",
       "      <td>2017</td>\n",
       "      <td>Andorra</td>\n",
       "      <td>2017</td>\n",
       "      <td>91.567467</td>\n",
       "    </tr>\n",
       "  </tbody>\n",
       "</table>\n",
       "</div>"
      ],
      "text/plain": [
       "    Code  most_recent_year       Entity  Year  \\\n",
       "25   ABW              2017        Aruba  2017   \n",
       "47   AFG              2017  Afghanistan  2017   \n",
       "75   AGO              2017       Angola  2017   \n",
       "104  ALB              2019      Albania  2019   \n",
       "131  AND              2017      Andorra  2017   \n",
       "\n",
       "     Individuals using the Internet (% of population)  \n",
       "25                                          97.170000  \n",
       "47                                          11.447688  \n",
       "75                                          14.339079  \n",
       "104                                         69.642855  \n",
       "131                                         91.567467  "
      ]
     },
     "execution_count": 2,
     "metadata": {},
     "output_type": "execute_result"
    }
   ],
   "source": [
    "# Select data from the most recent YEAR for each COUNTRY\n",
    "\n",
    "countries = []\n",
    "mr_year = []\n",
    "\n",
    "for grp, df in df_int.groupby(\"Code\"):\n",
    "    countries.append(grp)\n",
    "    #print(\"GRP:\", grp)\n",
    "    mr_year.append(df[\"Year\"].max())\n",
    "    #print(\"YEAR:\", df[\"Year\"].max())\n",
    "\n",
    "df_years = pd.DataFrame({\"Code\": countries, \"most_recent_year\": mr_year})\n",
    "\n",
    "df_rec = pd.merge(df_years, df_int)\n",
    "df_rec = df_rec[df_rec[\"Year\"]==df_rec[\"most_recent_year\"]]\n",
    "df_rec.head()"
   ]
  },
  {
   "cell_type": "code",
   "execution_count": 4,
   "id": "98f9a756-b783-4c3f-96b5-1a0793d715fd",
   "metadata": {},
   "outputs": [
    {
     "data": {
      "text/html": [
       "<div>\n",
       "<style scoped>\n",
       "    .dataframe tbody tr th:only-of-type {\n",
       "        vertical-align: middle;\n",
       "    }\n",
       "\n",
       "    .dataframe tbody tr th {\n",
       "        vertical-align: top;\n",
       "    }\n",
       "\n",
       "    .dataframe thead th {\n",
       "        text-align: right;\n",
       "    }\n",
       "</style>\n",
       "<table border=\"1\" class=\"dataframe\">\n",
       "  <thead>\n",
       "    <tr style=\"text-align: right;\">\n",
       "      <th></th>\n",
       "      <th>Code</th>\n",
       "      <th>most_recent_year</th>\n",
       "      <th>Country</th>\n",
       "      <th>Year</th>\n",
       "      <th>Percentage</th>\n",
       "    </tr>\n",
       "  </thead>\n",
       "  <tbody>\n",
       "    <tr>\n",
       "      <th>25</th>\n",
       "      <td>ABW</td>\n",
       "      <td>2017</td>\n",
       "      <td>Aruba</td>\n",
       "      <td>2017</td>\n",
       "      <td>97.170000</td>\n",
       "    </tr>\n",
       "    <tr>\n",
       "      <th>47</th>\n",
       "      <td>AFG</td>\n",
       "      <td>2017</td>\n",
       "      <td>Afghanistan</td>\n",
       "      <td>2017</td>\n",
       "      <td>11.447688</td>\n",
       "    </tr>\n",
       "    <tr>\n",
       "      <th>75</th>\n",
       "      <td>AGO</td>\n",
       "      <td>2017</td>\n",
       "      <td>Angola</td>\n",
       "      <td>2017</td>\n",
       "      <td>14.339079</td>\n",
       "    </tr>\n",
       "    <tr>\n",
       "      <th>104</th>\n",
       "      <td>ALB</td>\n",
       "      <td>2019</td>\n",
       "      <td>Albania</td>\n",
       "      <td>2019</td>\n",
       "      <td>69.642855</td>\n",
       "    </tr>\n",
       "    <tr>\n",
       "      <th>131</th>\n",
       "      <td>AND</td>\n",
       "      <td>2017</td>\n",
       "      <td>Andorra</td>\n",
       "      <td>2017</td>\n",
       "      <td>91.567467</td>\n",
       "    </tr>\n",
       "  </tbody>\n",
       "</table>\n",
       "</div>"
      ],
      "text/plain": [
       "    Code  most_recent_year      Country  Year  Percentage\n",
       "25   ABW              2017        Aruba  2017   97.170000\n",
       "47   AFG              2017  Afghanistan  2017   11.447688\n",
       "75   AGO              2017       Angola  2017   14.339079\n",
       "104  ALB              2019      Albania  2019   69.642855\n",
       "131  AND              2017      Andorra  2017   91.567467"
      ]
     },
     "execution_count": 4,
     "metadata": {},
     "output_type": "execute_result"
    }
   ],
   "source": [
    "df_rec.rename(columns = {\"Individuals using the Internet (% of population)\": \"Percentage\", \"Entity\": \"Country\"}, inplace = True)\n",
    "df = df_rec\n",
    "df.head()"
   ]
  },
  {
   "cell_type": "markdown",
   "id": "2ef3d48e-96e3-4429-86dd-c14e0e627466",
   "metadata": {
    "tags": []
   },
   "source": [
    "# CHOROPLETH 3D FUNCTION TEST WITH INTERNET DATA"
   ]
  },
  {
   "cell_type": "code",
   "execution_count": 14,
   "id": "9bb7dff4-5d3b-4332-992d-7c7f7348dbe9",
   "metadata": {
    "jupyter": {
     "source_hidden": true
    },
    "tags": []
   },
   "outputs": [],
   "source": [
    "def cplot(df):\n",
    "    fig = go.Figure(data=go.Choropleth(\n",
    "        locations=df['Code'],\n",
    "        z=df['Percentage'],\n",
    "        colorscale='ice',\n",
    "\n",
    "        text=df['Country'],  # hover text\n",
    "        marker_line_color='white',  # line markers between states\n",
    "        colorbar_title=\"% Pop.\", marker_line_width=0)\n",
    "    )\n",
    "\n",
    "    #fig.update_layout(title_text='World wide web usage,')\n",
    "    fig.update_layout(margin=dict(l=50, r=50, t=50, b=50), height=640,\n",
    "                      plot_bgcolor=\"#0e1117\",\n",
    "                      paper_bgcolor=\"#0e1117\",\n",
    "                      font_color=\"white\",\n",
    "                      geo_bgcolor=\"#0e1117\",\n",
    "                      )\n",
    "    fig.update_geos(showlakes=False,\n",
    "                    projection_type=\"orthographic\",\n",
    "                    projection_rotation=dict(lon=10, lat=45, roll=0),\n",
    "                    )\n",
    "    #fig.update_traces(unselected_marker_opacity=0.5, selector=dict(type='choropleth'))\n",
    "    title='Im a title'\n",
    "    description = 'Example description'\n",
    "    key='inetusage'\n",
    "    lib = 'plotly_go'\n",
    "    info_dict=dict(title=title, description=description, lib=lib)\n",
    "    return (key,fig,info_dict)"
   ]
  },
  {
   "cell_type": "code",
   "execution_count": 6,
   "id": "fa5aafb3-668f-4f9d-8b45-3ef672e9d5c4",
   "metadata": {
    "jupyter": {
     "source_hidden": true
    },
    "tags": []
   },
   "outputs": [],
   "source": [
    "plot1 = cplot(df_rec)\n",
    "plots = []\n",
    "plots.append(plot1)\n",
    "def get_plots():\n",
    "    return plots"
   ]
  },
  {
   "cell_type": "code",
   "execution_count": 24,
   "id": "b8eb9617-912d-4a57-bfd4-d9ff0cf11f66",
   "metadata": {
    "collapsed": true,
    "jupyter": {
     "outputs_hidden": true,
     "source_hidden": true
    },
    "tags": []
   },
   "outputs": [
    {
     "ename": "NameError",
     "evalue": "name 'fig' is not defined",
     "output_type": "error",
     "traceback": [
      "\u001b[1;31m---------------------------------------------------------------------------\u001b[0m",
      "\u001b[1;31mNameError\u001b[0m                                 Traceback (most recent call last)",
      "Input \u001b[1;32mIn [24]\u001b[0m, in \u001b[0;36m<cell line: 1>\u001b[1;34m()\u001b[0m\n\u001b[1;32m----> 1\u001b[0m plot1(\u001b[43mfig\u001b[49m)\u001b[38;5;241m.\u001b[39mshow()\n",
      "\u001b[1;31mNameError\u001b[0m: name 'fig' is not defined"
     ]
    }
   ],
   "source": [
    "plot1(fig).show()"
   ]
  },
  {
   "cell_type": "markdown",
   "id": "bb68ca53-f2bd-4fbb-83fc-8770b6392c18",
   "metadata": {
    "jupyter": {
     "source_hidden": true
    },
    "tags": []
   },
   "source": [
    "# SCATTER MARKERS"
   ]
  },
  {
   "cell_type": "code",
   "execution_count": 26,
   "id": "0e44cd09-abb5-4a1b-8aaf-8e78beb4adcc",
   "metadata": {
    "collapsed": true,
    "jupyter": {
     "outputs_hidden": true,
     "source_hidden": true
    },
    "tags": []
   },
   "outputs": [
    {
     "ename": "NameError",
     "evalue": "name 't' is not defined",
     "output_type": "error",
     "traceback": [
      "\u001b[1;31m---------------------------------------------------------------------------\u001b[0m",
      "\u001b[1;31mNameError\u001b[0m                                 Traceback (most recent call last)",
      "Input \u001b[1;32mIn [26]\u001b[0m, in \u001b[0;36m<cell line: 1>\u001b[1;34m()\u001b[0m\n\u001b[1;32m----> 1\u001b[0m fig \u001b[38;5;241m=\u001b[39m go\u001b[38;5;241m.\u001b[39mFigure(data\u001b[38;5;241m=\u001b[39mgo\u001b[38;5;241m.\u001b[39mScatter(x\u001b[38;5;241m=\u001b[39m\u001b[43mt\u001b[49m, y\u001b[38;5;241m=\u001b[39my, mode\u001b[38;5;241m=\u001b[39m\u001b[38;5;124m'\u001b[39m\u001b[38;5;124mmarkers\u001b[39m\u001b[38;5;124m'\u001b[39m))\n\u001b[0;32m      3\u001b[0m fig\u001b[38;5;241m.\u001b[39mshow()\n",
      "\u001b[1;31mNameError\u001b[0m: name 't' is not defined"
     ]
    }
   ],
   "source": [
    "fig = go.Figure(data=go.Scatter\n",
    "                (x=t,\n",
    "                 y=y,\n",
    "                 mode='markers',\n",
    "                 name=name, # legend\n",
    "                 text=data # hover text\n",
    "                ))\n",
    "\n",
    "fig.update_layout(title=title)\n",
    "\n",
    "fig.show()"
   ]
  },
  {
   "cell_type": "markdown",
   "id": "37756320-fb8d-4dae-a26b-224c935d284d",
   "metadata": {},
   "source": [
    "# FIG ONLY TESTS WITHOUT FUNCTION CODE"
   ]
  },
  {
   "cell_type": "markdown",
   "id": "cb29611b-9a4a-41af-bf5a-a7414c2010b8",
   "metadata": {
    "tags": []
   },
   "source": [
    "# CHOROPLETH 3D"
   ]
  },
  {
   "cell_type": "markdown",
   "id": "1dd4d16a-8f60-401a-ad94-40660f10a5e3",
   "metadata": {},
   "source": [
    "Use case: global map showing status/stockpile per year\n",
    "\n",
    "https://plotly.com/python/choropleth-maps/#choropleth-maps-with-gochoropleth"
   ]
  },
  {
   "cell_type": "code",
   "execution_count": null,
   "id": "9ad4a708-4c11-44d6-affa-711fde96116f",
   "metadata": {
    "jupyter": {
     "source_hidden": true
    },
    "tags": []
   },
   "outputs": [],
   "source": [
    "fig = go.Figure(data=go.Choropleth(\n",
    "    locations=df[\"Code\"],\n",
    "    z=z, # Data to be color-coded\n",
    "    colorscale=colorscale,\n",
    "    name=name, # legend\n",
    "    text=text, # hover text\n",
    "    marker_line_color=marker_line_color,  # line markers between states\n",
    "    marker_line_width=0,\n",
    "    colorbar_title=colorbar_title,\n",
    "))\n",
    "\n",
    "fig.update_layout(\n",
    "    title_text=title_text,\n",
    "    margin=dict(l=50, r=50, t=50, b=50),\n",
    "    height=640,\n",
    "    plot_bgcolor=\"#0e1117\",\n",
    "    paper_bgcolor=\"#0e1117\",\n",
    "    font_color=\"white\",\n",
    "    geo_bgcolor=\"#0e1117\",\n",
    ")\n",
    "\n",
    "fig.update_geos(\n",
    "    showlakes=False,\n",
    "    projection_type=\"orthographic\",\n",
    "    projection_rotation=dict(lon=10, lat=45, roll=0),\n",
    ")"
   ]
  },
  {
   "cell_type": "markdown",
   "id": "39b656e3-b89d-4a3c-ab7f-749fc2cd7e3b",
   "metadata": {
    "tags": []
   },
   "source": [
    "# CHOROPLETH 2D"
   ]
  },
  {
   "cell_type": "markdown",
   "id": "83ca1495-be86-41f4-b0a3-edf2da935530",
   "metadata": {},
   "source": [
    "Use case: global map showing status/stockpile per year\n",
    "\n",
    "https://plotly.com/python/choropleth-maps/#choropleth-maps-with-gochoropleth"
   ]
  },
  {
   "cell_type": "markdown",
   "id": "3c5a0106-91be-49f4-b41d-b45d7a975631",
   "metadata": {},
   "source": [
    "fig = go.Figure(data=go.Choropleth(\n",
    "    locations=df['Code'],\n",
    "    z=df['Percentage'], # Data to be color-coded\n",
    "    colorscale=\"Jet\",\n",
    "    #name=name, # legend\n",
    "    text=df['Country'], # hover text\n",
    "    marker_line_color=\"white\",  # line markers between states\n",
    "    marker_line_width=0,\n",
    "    colorbar_title=\"% Pop.\",\n",
    "))\n",
    "\n",
    "fig.update_layout(\n",
    "    title_text=\"title\",\n",
    "    margin=dict(l=50, r=50, t=50, b=50),\n",
    "    height=640,\n",
    "    plot_bgcolor=\"#0e1117\",\n",
    "    paper_bgcolor=\"#0e1117\",\n",
    "    font_color=\"white\",\n",
    "    geo_bgcolor=\"#0e1117\",\n",
    ")\n",
    "\n",
    "fig.show()"
   ]
  },
  {
   "cell_type": "markdown",
   "id": "49a9e042-87ae-488c-93d9-3647264ed752",
   "metadata": {},
   "source": [
    "# BUBBLE MAP"
   ]
  },
  {
   "cell_type": "markdown",
   "id": "82151def-ea26-48ac-bb70-47ad6447bf53",
   "metadata": {},
   "source": [
    "Use case:\n",
    "As a trace for global map showing status/stockpile per year\n",
    "\n",
    "https://plotly.com/python/bubble-maps/#bubble-map-with-goscattergeo"
   ]
  },
  {
   "cell_type": "code",
   "execution_count": 42,
   "id": "b57faa29-4dcf-4289-8aa3-e99495d45957",
   "metadata": {
    "collapsed": true,
    "jupyter": {
     "outputs_hidden": true
    },
    "tags": []
   },
   "outputs": [
    {
     "ename": "NameError",
     "evalue": "name 'limits' is not defined",
     "output_type": "error",
     "traceback": [
      "\u001b[1;31m---------------------------------------------------------------------------\u001b[0m",
      "\u001b[1;31mNameError\u001b[0m                                 Traceback (most recent call last)",
      "Input \u001b[1;32mIn [42]\u001b[0m, in \u001b[0;36m<cell line: 10>\u001b[1;34m()\u001b[0m\n\u001b[0;32m      5\u001b[0m \u001b[38;5;66;03m# limits = [(0,2),(3,10),(11,20),(21,50),(50,3000)]\u001b[39;00m\n\u001b[0;32m      6\u001b[0m \u001b[38;5;66;03m# colors = [\"royalblue\",\"crimson\",\"lightseagreen\",\"orange\",\"lightgrey\"]\u001b[39;00m\n\u001b[0;32m      8\u001b[0m fig \u001b[38;5;241m=\u001b[39m go\u001b[38;5;241m.\u001b[39mFigure()\n\u001b[1;32m---> 10\u001b[0m \u001b[38;5;28;01mfor\u001b[39;00m i \u001b[38;5;129;01min\u001b[39;00m \u001b[38;5;28mrange\u001b[39m(\u001b[38;5;28mlen\u001b[39m(\u001b[43mlimits\u001b[49m)):\n\u001b[0;32m     11\u001b[0m     lim \u001b[38;5;241m=\u001b[39m limits[i]\n\u001b[0;32m     12\u001b[0m     df_sub \u001b[38;5;241m=\u001b[39m df[lim[\u001b[38;5;241m0\u001b[39m]:lim[\u001b[38;5;241m1\u001b[39m]]\n",
      "\u001b[1;31mNameError\u001b[0m: name 'limits' is not defined"
     ]
    }
   ],
   "source": [
    "# limits = [(0,2),(3,10),(11,20),(21,50),(50,3000)]\n",
    "# colors = [\"royalblue\",\"crimson\",\"lightseagreen\",\"orange\",\"lightgrey\"]\n",
    "\n",
    "fig = go.Figure()\n",
    "\n",
    "for i in range(len(limits)):\n",
    "    lim = limits[i]\n",
    "    df_sub = df[lim[0]:lim[1]]\n",
    "    fig.add_trace(go.Scattergeo(\n",
    "        locationmode = 'country names',\n",
    "        lon = df_sub['lon'],\n",
    "        lat = df_sub['lat'],\n",
    "        text = df_sub['text'],\n",
    "        marker = dict(\n",
    "            #size = df_sub[COLUMN]/scale,\n",
    "            color = colors[i],\n",
    "            line_color='rgb(40,40,40)',\n",
    "            line_width=0.5,\n",
    "            sizemode = 'area'\n",
    "        ),\n",
    "        name = '{0} - {1}'.format(lim[0],lim[1])))\n",
    "\n",
    "fig.update_layout(\n",
    "        title_text = title_text,\n",
    "        showlegend = True,\n",
    "        geo = dict(\n",
    "            #scope = 'usa',\n",
    "            landcolor = 'rgb(217, 217, 217)',\n",
    "        )\n",
    ")"
   ]
  },
  {
   "cell_type": "markdown",
   "id": "9eedb327-baed-4348-a2d8-665da627fb91",
   "metadata": {},
   "source": [
    "# SCATTER LINE"
   ]
  },
  {
   "cell_type": "markdown",
   "id": "682f311a-7ecd-4710-9959-214c02416942",
   "metadata": {},
   "source": [
    "Use case:\n",
    "Possession, 1945 to 2022\n",
    "+ Events\n",
    "\n",
    "https://plotly.com/python/line-charts/#line-plot-with-goscatter"
   ]
  },
  {
   "cell_type": "code",
   "execution_count": null,
   "id": "b12e7c82-289a-4def-85e7-0707b16d77f1",
   "metadata": {},
   "outputs": [],
   "source": [
    "fig = go.Figure(data=go.Scatter(\n",
    "    x=x,\n",
    "    y=y,\n",
    "    mode=\"lines\",\n",
    "    name=name, # legend\n",
    "    text=data # hover text\n",
    "))\n",
    "\n",
    "fig.update_layout(title=title)"
   ]
  },
  {
   "cell_type": "markdown",
   "id": "55c17617-0cf4-4fd6-8dc9-31b9427c933a",
   "metadata": {},
   "source": [
    "# SCATTER MARKER BUBBLES"
   ]
  },
  {
   "cell_type": "markdown",
   "id": "95a5d2cb-c6d0-4d0c-abd5-28a008d737f3",
   "metadata": {},
   "source": [
    "Not sure if we will need this because we probably only need a bubble map as shown above.\n",
    "\n",
    "https://plotly.com/python/line-and-scatter/#scatter-and-line-plots-with-goscatter"
   ]
  },
  {
   "cell_type": "code",
   "execution_count": 9,
   "id": "3f954e5a-9bc8-4997-9255-eb1ce0d248b9",
   "metadata": {},
   "outputs": [
    {
     "data": {
      "text/html": [
       "<div>\n",
       "<style scoped>\n",
       "    .dataframe tbody tr th:only-of-type {\n",
       "        vertical-align: middle;\n",
       "    }\n",
       "\n",
       "    .dataframe tbody tr th {\n",
       "        vertical-align: top;\n",
       "    }\n",
       "\n",
       "    .dataframe thead th {\n",
       "        text-align: right;\n",
       "    }\n",
       "</style>\n",
       "<table border=\"1\" class=\"dataframe\">\n",
       "  <thead>\n",
       "    <tr style=\"text-align: right;\">\n",
       "      <th></th>\n",
       "      <th>Code</th>\n",
       "      <th>most_recent_year</th>\n",
       "      <th>Country</th>\n",
       "      <th>Year</th>\n",
       "      <th>Percentage</th>\n",
       "    </tr>\n",
       "  </thead>\n",
       "  <tbody>\n",
       "    <tr>\n",
       "      <th>25</th>\n",
       "      <td>ABW</td>\n",
       "      <td>2017</td>\n",
       "      <td>Aruba</td>\n",
       "      <td>2017</td>\n",
       "      <td>97.170000</td>\n",
       "    </tr>\n",
       "    <tr>\n",
       "      <th>47</th>\n",
       "      <td>AFG</td>\n",
       "      <td>2017</td>\n",
       "      <td>Afghanistan</td>\n",
       "      <td>2017</td>\n",
       "      <td>11.447688</td>\n",
       "    </tr>\n",
       "    <tr>\n",
       "      <th>75</th>\n",
       "      <td>AGO</td>\n",
       "      <td>2017</td>\n",
       "      <td>Angola</td>\n",
       "      <td>2017</td>\n",
       "      <td>14.339079</td>\n",
       "    </tr>\n",
       "    <tr>\n",
       "      <th>104</th>\n",
       "      <td>ALB</td>\n",
       "      <td>2019</td>\n",
       "      <td>Albania</td>\n",
       "      <td>2019</td>\n",
       "      <td>69.642855</td>\n",
       "    </tr>\n",
       "    <tr>\n",
       "      <th>131</th>\n",
       "      <td>AND</td>\n",
       "      <td>2017</td>\n",
       "      <td>Andorra</td>\n",
       "      <td>2017</td>\n",
       "      <td>91.567467</td>\n",
       "    </tr>\n",
       "  </tbody>\n",
       "</table>\n",
       "</div>"
      ],
      "text/plain": [
       "    Code  most_recent_year      Country  Year  Percentage\n",
       "25   ABW              2017        Aruba  2017   97.170000\n",
       "47   AFG              2017  Afghanistan  2017   11.447688\n",
       "75   AGO              2017       Angola  2017   14.339079\n",
       "104  ALB              2019      Albania  2019   69.642855\n",
       "131  AND              2017      Andorra  2017   91.567467"
      ]
     },
     "execution_count": 9,
     "metadata": {},
     "output_type": "execute_result"
    }
   ],
   "source": [
    "df.head()"
   ]
  },
  {
   "cell_type": "code",
   "execution_count": 16,
   "id": "f96ae7f0-67cb-4676-894a-7f8d3437e79a",
   "metadata": {},
   "outputs": [
    {
     "data": {
      "application/vnd.plotly.v1+json": {
       "config": {
        "plotlyServerURL": "https://plot.ly"
       },
       "data": [
        {
         "marker": {
          "sizemode": "area",
          "symbol": "square"
         },
         "mode": "markers",
         "type": "scatter",
         "x": [
          "Aruba",
          "Afghanistan",
          "Angola",
          "Albania",
          "Andorra",
          "United Arab Emirates",
          "Argentina",
          "Armenia",
          "American Samoa",
          "Antigua and Barbuda",
          "Australia",
          "Austria",
          "Azerbaijan",
          "Burundi",
          "Belgium",
          "Benin",
          "Burkina Faso",
          "Bangladesh",
          "Bulgaria",
          "Bahrain",
          "Bahamas",
          "Bosnia and Herzegovina",
          "Belarus",
          "Belize",
          "Bermuda",
          "Bolivia",
          "Brazil",
          "Barbados",
          "Brunei",
          "Bhutan",
          "Botswana",
          "Central African Republic",
          "Canada",
          "Switzerland",
          "Chile",
          "China",
          "Cote d'Ivoire",
          "Cameroon",
          "Democratic Republic of Congo",
          "Congo",
          "Colombia",
          "Comoros",
          "Cape Verde",
          "Costa Rica",
          "Cuba",
          "Curacao",
          "Cayman Islands",
          "Cyprus",
          "Czechia",
          "Germany",
          "Djibouti",
          "Dominica",
          "Denmark",
          "Dominican Republic",
          "Algeria",
          "Ecuador",
          "Egypt",
          "Eritrea",
          "Spain",
          "Estonia",
          "Ethiopia",
          "Finland",
          "Fiji",
          "France",
          "Faeroe Islands",
          "Micronesia (country)",
          "Gabon",
          "United Kingdom",
          "Georgia",
          "Ghana",
          "Gibraltar",
          "Guinea",
          "Gambia",
          "Guinea-Bissau",
          "Equatorial Guinea",
          "Greece",
          "Grenada",
          "Greenland",
          "Guatemala",
          "Guam",
          "Guyana",
          "Hong Kong",
          "Honduras",
          "Croatia",
          "Haiti",
          "Hungary",
          "Indonesia",
          "India",
          "Ireland",
          "Iran",
          "Iraq",
          "Iceland",
          "Israel",
          "Italy",
          "Jamaica",
          "Jordan",
          "Japan",
          "Kazakhstan",
          "Kenya",
          "Kyrgyzstan",
          "Cambodia",
          "Kiribati",
          "Saint Kitts and Nevis",
          "South Korea",
          "Kuwait",
          "Laos",
          "Lebanon",
          "Liberia",
          "Libya",
          "Saint Lucia",
          "Liechtenstein",
          "Sri Lanka",
          "Lesotho",
          "Lithuania",
          "Luxembourg",
          "Latvia",
          "Macao",
          "Morocco",
          "Monaco",
          "Moldova",
          "Madagascar",
          "Maldives",
          "Mexico",
          "Marshall Islands",
          "North Macedonia",
          "Mali",
          "Malta",
          "Myanmar",
          "Montenegro",
          "Mongolia",
          "Northern Mariana Islands",
          "Mozambique",
          "Mauritania",
          "Mauritius",
          "Malawi",
          "Malaysia",
          "Namibia",
          "New Caledonia",
          "Niger",
          "Nigeria",
          "Nicaragua",
          "Netherlands",
          "Norway",
          "Nepal",
          "Nauru",
          "New Zealand",
          "Oman",
          "Kosovo",
          "World",
          "Pakistan",
          "Panama",
          "Peru",
          "Philippines",
          "Palau",
          "Papua New Guinea",
          "Poland",
          "Puerto Rico",
          "North Korea",
          "Portugal",
          "Paraguay",
          "Palestine",
          "French Polynesia",
          "Qatar",
          "Romania",
          "Russia",
          "Rwanda",
          "Saudi Arabia",
          "Sudan",
          "Senegal",
          "Singapore",
          "Solomon Islands",
          "Sierra Leone",
          "El Salvador",
          "San Marino",
          "Somalia",
          "Serbia",
          "South Sudan",
          "Sao Tome and Principe",
          "Suriname",
          "Slovakia",
          "Slovenia",
          "Sweden",
          "Eswatini",
          "Seychelles",
          "Syria",
          "Turks and Caicos Islands",
          "Chad",
          "Togo",
          "Thailand",
          "Tajikistan",
          "Turkmenistan",
          "Timor",
          "Tonga",
          "Trinidad and Tobago",
          "Tunisia",
          "Turkey",
          "Tuvalu",
          "Tanzania",
          "Uganda",
          "Ukraine",
          "Uruguay",
          "United States",
          "Uzbekistan",
          "Saint Vincent and the Grenadines",
          "Venezuela",
          "British Virgin Islands",
          "United States Virgin Islands",
          "Vietnam",
          "Vanuatu",
          "Samoa",
          "Yemen",
          "South Africa",
          "Zambia",
          "Zimbabwe"
         ],
         "y": [
          97.17,
          11.44768809,
          14.33907936,
          69.64285467,
          91.56746703,
          99.14999796,
          74.29490687,
          68.24505226,
          0,
          73,
          86.54504885,
          87.75220479,
          79.79999549,
          2.660748535,
          90.37051309,
          14.11901233,
          15.87620691,
          12.9,
          67.94698094,
          99.70150438,
          85,
          69.94634763,
          82.78915209,
          47.0826258,
          98.37,
          44.28614216,
          70.43428254,
          81.76077839,
          95,
          41.77264453,
          41.41379464,
          4.339254945,
          92.70137191,
          93.14608695,
          82.32748693,
          54.3,
          36.45378947,
          23.20297197,
          8.619904916,
          8.65,
          65.00690072,
          8.478170295,
          57.16214635,
          81.20259644,
          61.83630006,
          68.12721625,
          81.06769325,
          86.06362996,
          80.86694441,
          88.13451691,
          55.68140925,
          69.61966879,
          98.04643475,
          74.82428986,
          49.03846808,
          54.06292473,
          57.28286878,
          1.30890698,
          90.71866533,
          89.53232756,
          18.61805145,
          89.60738511,
          49.96637301,
          83.33974409,
          97.58195894,
          35.30405287,
          50.32012015,
          92.51662855,
          68.84671356,
          37.88415262,
          94.44447158,
          21.83002304,
          19.83645444,
          3.930509152,
          26.23999996,
          75.67120669,
          59.07173536,
          69.48246178,
          40.70304908,
          80.50546556,
          37.32583679,
          91.74340039,
          32.13636364,
          79.07978368,
          32.47362713,
          80.37169361,
          47.69064898,
          20.08130004,
          84.52230206,
          70.00455222,
          75.00000131,
          99.01095399,
          86.78787762,
          74.38718292,
          55.07206705,
          66.79031443,
          91.28160849,
          81.87762554,
          22.56511937,
          38.19903776,
          40.5459865,
          14.58181818,
          80.71019081,
          96.15758265,
          99.54267645,
          25.51043508,
          78.18077489,
          7.984479722,
          21.75892062,
          50.81524478,
          99.54661245,
          34.1133479,
          29.78780333,
          81.58186838,
          97.06129871,
          86.13545644,
          86.46792571,
          74.37631447,
          97.05297684,
          76.12451989,
          4.713662899,
          63.18566588,
          70.06991047,
          38.70116262,
          79.16775519,
          12.72064096,
          85.77859638,
          23.62108195,
          73.47666575,
          51.07999408,
          0,
          20.7740003,
          20.80096366,
          63.99989817,
          13.78216439,
          84.21322418,
          36.83740647,
          82.0058408,
          5.250487687,
          7.469439317,
          27.86304001,
          93.2885906,
          98.00000439,
          21.40351043,
          62.38512451,
          90.81109307,
          92.40844424,
          89.44303197,
          48.9969115845464,
          17.07090203,
          63.62841477,
          59.9505036,
          43.02661187,
          26.97033263,
          11.20919659,
          84.51645192,
          70.8743212,
          0,
          75.34637155,
          68.51762842,
          70.62260685,
          72.70389531,
          99.65280421,
          73.65748258,
          82.64216187,
          21.76763262,
          95.7247356,
          30.87029573,
          29.64312367,
          88.94925269,
          11.92422906,
          13.23693043,
          33.8207289,
          60.18230126,
          2.004048698,
          77.41677362,
          7.977428907,
          29.9312292,
          48.94517397,
          82.8536605,
          83.1083578,
          94.49344341,
          30.3,
          58.76981124,
          34.25340193,
          0,
          6.49999812,
          12.36022497,
          66.65241317,
          21.96,
          21.25099741,
          27.49273173,
          41.24872764,
          77.32605293,
          66.6999983,
          73.97670403,
          49.31833862,
          15.99999943,
          23.70653091,
          62.55315539,
          76.94955197,
          88.49890317,
          55.20000067,
          20.68943522,
          64.31336383,
          77.70426829,
          64.3774943,
          68.7,
          25.71978784,
          33.61093932,
          26.71835477,
          56.16739447,
          14.2999971,
          27.05548769
         ]
        }
       ],
       "layout": {
        "autosize": true,
        "template": {
         "data": {
          "bar": [
           {
            "error_x": {
             "color": "#2a3f5f"
            },
            "error_y": {
             "color": "#2a3f5f"
            },
            "marker": {
             "line": {
              "color": "#E5ECF6",
              "width": 0.5
             },
             "pattern": {
              "fillmode": "overlay",
              "size": 10,
              "solidity": 0.2
             }
            },
            "type": "bar"
           }
          ],
          "barpolar": [
           {
            "marker": {
             "line": {
              "color": "#E5ECF6",
              "width": 0.5
             },
             "pattern": {
              "fillmode": "overlay",
              "size": 10,
              "solidity": 0.2
             }
            },
            "type": "barpolar"
           }
          ],
          "carpet": [
           {
            "aaxis": {
             "endlinecolor": "#2a3f5f",
             "gridcolor": "white",
             "linecolor": "white",
             "minorgridcolor": "white",
             "startlinecolor": "#2a3f5f"
            },
            "baxis": {
             "endlinecolor": "#2a3f5f",
             "gridcolor": "white",
             "linecolor": "white",
             "minorgridcolor": "white",
             "startlinecolor": "#2a3f5f"
            },
            "type": "carpet"
           }
          ],
          "choropleth": [
           {
            "colorbar": {
             "outlinewidth": 0,
             "ticks": ""
            },
            "type": "choropleth"
           }
          ],
          "contour": [
           {
            "colorbar": {
             "outlinewidth": 0,
             "ticks": ""
            },
            "colorscale": [
             [
              0,
              "#0d0887"
             ],
             [
              0.1111111111111111,
              "#46039f"
             ],
             [
              0.2222222222222222,
              "#7201a8"
             ],
             [
              0.3333333333333333,
              "#9c179e"
             ],
             [
              0.4444444444444444,
              "#bd3786"
             ],
             [
              0.5555555555555556,
              "#d8576b"
             ],
             [
              0.6666666666666666,
              "#ed7953"
             ],
             [
              0.7777777777777778,
              "#fb9f3a"
             ],
             [
              0.8888888888888888,
              "#fdca26"
             ],
             [
              1,
              "#f0f921"
             ]
            ],
            "type": "contour"
           }
          ],
          "contourcarpet": [
           {
            "colorbar": {
             "outlinewidth": 0,
             "ticks": ""
            },
            "type": "contourcarpet"
           }
          ],
          "heatmap": [
           {
            "colorbar": {
             "outlinewidth": 0,
             "ticks": ""
            },
            "colorscale": [
             [
              0,
              "#0d0887"
             ],
             [
              0.1111111111111111,
              "#46039f"
             ],
             [
              0.2222222222222222,
              "#7201a8"
             ],
             [
              0.3333333333333333,
              "#9c179e"
             ],
             [
              0.4444444444444444,
              "#bd3786"
             ],
             [
              0.5555555555555556,
              "#d8576b"
             ],
             [
              0.6666666666666666,
              "#ed7953"
             ],
             [
              0.7777777777777778,
              "#fb9f3a"
             ],
             [
              0.8888888888888888,
              "#fdca26"
             ],
             [
              1,
              "#f0f921"
             ]
            ],
            "type": "heatmap"
           }
          ],
          "heatmapgl": [
           {
            "colorbar": {
             "outlinewidth": 0,
             "ticks": ""
            },
            "colorscale": [
             [
              0,
              "#0d0887"
             ],
             [
              0.1111111111111111,
              "#46039f"
             ],
             [
              0.2222222222222222,
              "#7201a8"
             ],
             [
              0.3333333333333333,
              "#9c179e"
             ],
             [
              0.4444444444444444,
              "#bd3786"
             ],
             [
              0.5555555555555556,
              "#d8576b"
             ],
             [
              0.6666666666666666,
              "#ed7953"
             ],
             [
              0.7777777777777778,
              "#fb9f3a"
             ],
             [
              0.8888888888888888,
              "#fdca26"
             ],
             [
              1,
              "#f0f921"
             ]
            ],
            "type": "heatmapgl"
           }
          ],
          "histogram": [
           {
            "marker": {
             "pattern": {
              "fillmode": "overlay",
              "size": 10,
              "solidity": 0.2
             }
            },
            "type": "histogram"
           }
          ],
          "histogram2d": [
           {
            "colorbar": {
             "outlinewidth": 0,
             "ticks": ""
            },
            "colorscale": [
             [
              0,
              "#0d0887"
             ],
             [
              0.1111111111111111,
              "#46039f"
             ],
             [
              0.2222222222222222,
              "#7201a8"
             ],
             [
              0.3333333333333333,
              "#9c179e"
             ],
             [
              0.4444444444444444,
              "#bd3786"
             ],
             [
              0.5555555555555556,
              "#d8576b"
             ],
             [
              0.6666666666666666,
              "#ed7953"
             ],
             [
              0.7777777777777778,
              "#fb9f3a"
             ],
             [
              0.8888888888888888,
              "#fdca26"
             ],
             [
              1,
              "#f0f921"
             ]
            ],
            "type": "histogram2d"
           }
          ],
          "histogram2dcontour": [
           {
            "colorbar": {
             "outlinewidth": 0,
             "ticks": ""
            },
            "colorscale": [
             [
              0,
              "#0d0887"
             ],
             [
              0.1111111111111111,
              "#46039f"
             ],
             [
              0.2222222222222222,
              "#7201a8"
             ],
             [
              0.3333333333333333,
              "#9c179e"
             ],
             [
              0.4444444444444444,
              "#bd3786"
             ],
             [
              0.5555555555555556,
              "#d8576b"
             ],
             [
              0.6666666666666666,
              "#ed7953"
             ],
             [
              0.7777777777777778,
              "#fb9f3a"
             ],
             [
              0.8888888888888888,
              "#fdca26"
             ],
             [
              1,
              "#f0f921"
             ]
            ],
            "type": "histogram2dcontour"
           }
          ],
          "mesh3d": [
           {
            "colorbar": {
             "outlinewidth": 0,
             "ticks": ""
            },
            "type": "mesh3d"
           }
          ],
          "parcoords": [
           {
            "line": {
             "colorbar": {
              "outlinewidth": 0,
              "ticks": ""
             }
            },
            "type": "parcoords"
           }
          ],
          "pie": [
           {
            "automargin": true,
            "type": "pie"
           }
          ],
          "scatter": [
           {
            "fillpattern": {
             "fillmode": "overlay",
             "size": 10,
             "solidity": 0.2
            },
            "type": "scatter"
           }
          ],
          "scatter3d": [
           {
            "line": {
             "colorbar": {
              "outlinewidth": 0,
              "ticks": ""
             }
            },
            "marker": {
             "colorbar": {
              "outlinewidth": 0,
              "ticks": ""
             }
            },
            "type": "scatter3d"
           }
          ],
          "scattercarpet": [
           {
            "marker": {
             "colorbar": {
              "outlinewidth": 0,
              "ticks": ""
             }
            },
            "type": "scattercarpet"
           }
          ],
          "scattergeo": [
           {
            "marker": {
             "colorbar": {
              "outlinewidth": 0,
              "ticks": ""
             }
            },
            "type": "scattergeo"
           }
          ],
          "scattergl": [
           {
            "marker": {
             "colorbar": {
              "outlinewidth": 0,
              "ticks": ""
             }
            },
            "type": "scattergl"
           }
          ],
          "scattermapbox": [
           {
            "marker": {
             "colorbar": {
              "outlinewidth": 0,
              "ticks": ""
             }
            },
            "type": "scattermapbox"
           }
          ],
          "scatterpolar": [
           {
            "marker": {
             "colorbar": {
              "outlinewidth": 0,
              "ticks": ""
             }
            },
            "type": "scatterpolar"
           }
          ],
          "scatterpolargl": [
           {
            "marker": {
             "colorbar": {
              "outlinewidth": 0,
              "ticks": ""
             }
            },
            "type": "scatterpolargl"
           }
          ],
          "scatterternary": [
           {
            "marker": {
             "colorbar": {
              "outlinewidth": 0,
              "ticks": ""
             }
            },
            "type": "scatterternary"
           }
          ],
          "surface": [
           {
            "colorbar": {
             "outlinewidth": 0,
             "ticks": ""
            },
            "colorscale": [
             [
              0,
              "#0d0887"
             ],
             [
              0.1111111111111111,
              "#46039f"
             ],
             [
              0.2222222222222222,
              "#7201a8"
             ],
             [
              0.3333333333333333,
              "#9c179e"
             ],
             [
              0.4444444444444444,
              "#bd3786"
             ],
             [
              0.5555555555555556,
              "#d8576b"
             ],
             [
              0.6666666666666666,
              "#ed7953"
             ],
             [
              0.7777777777777778,
              "#fb9f3a"
             ],
             [
              0.8888888888888888,
              "#fdca26"
             ],
             [
              1,
              "#f0f921"
             ]
            ],
            "type": "surface"
           }
          ],
          "table": [
           {
            "cells": {
             "fill": {
              "color": "#EBF0F8"
             },
             "line": {
              "color": "white"
             }
            },
            "header": {
             "fill": {
              "color": "#C8D4E3"
             },
             "line": {
              "color": "white"
             }
            },
            "type": "table"
           }
          ]
         },
         "layout": {
          "annotationdefaults": {
           "arrowcolor": "#2a3f5f",
           "arrowhead": 0,
           "arrowwidth": 1
          },
          "autotypenumbers": "strict",
          "coloraxis": {
           "colorbar": {
            "outlinewidth": 0,
            "ticks": ""
           }
          },
          "colorscale": {
           "diverging": [
            [
             0,
             "#8e0152"
            ],
            [
             0.1,
             "#c51b7d"
            ],
            [
             0.2,
             "#de77ae"
            ],
            [
             0.3,
             "#f1b6da"
            ],
            [
             0.4,
             "#fde0ef"
            ],
            [
             0.5,
             "#f7f7f7"
            ],
            [
             0.6,
             "#e6f5d0"
            ],
            [
             0.7,
             "#b8e186"
            ],
            [
             0.8,
             "#7fbc41"
            ],
            [
             0.9,
             "#4d9221"
            ],
            [
             1,
             "#276419"
            ]
           ],
           "sequential": [
            [
             0,
             "#0d0887"
            ],
            [
             0.1111111111111111,
             "#46039f"
            ],
            [
             0.2222222222222222,
             "#7201a8"
            ],
            [
             0.3333333333333333,
             "#9c179e"
            ],
            [
             0.4444444444444444,
             "#bd3786"
            ],
            [
             0.5555555555555556,
             "#d8576b"
            ],
            [
             0.6666666666666666,
             "#ed7953"
            ],
            [
             0.7777777777777778,
             "#fb9f3a"
            ],
            [
             0.8888888888888888,
             "#fdca26"
            ],
            [
             1,
             "#f0f921"
            ]
           ],
           "sequentialminus": [
            [
             0,
             "#0d0887"
            ],
            [
             0.1111111111111111,
             "#46039f"
            ],
            [
             0.2222222222222222,
             "#7201a8"
            ],
            [
             0.3333333333333333,
             "#9c179e"
            ],
            [
             0.4444444444444444,
             "#bd3786"
            ],
            [
             0.5555555555555556,
             "#d8576b"
            ],
            [
             0.6666666666666666,
             "#ed7953"
            ],
            [
             0.7777777777777778,
             "#fb9f3a"
            ],
            [
             0.8888888888888888,
             "#fdca26"
            ],
            [
             1,
             "#f0f921"
            ]
           ]
          },
          "colorway": [
           "#636efa",
           "#EF553B",
           "#00cc96",
           "#ab63fa",
           "#FFA15A",
           "#19d3f3",
           "#FF6692",
           "#B6E880",
           "#FF97FF",
           "#FECB52"
          ],
          "font": {
           "color": "#2a3f5f"
          },
          "geo": {
           "bgcolor": "white",
           "lakecolor": "white",
           "landcolor": "#E5ECF6",
           "showlakes": true,
           "showland": true,
           "subunitcolor": "white"
          },
          "hoverlabel": {
           "align": "left"
          },
          "hovermode": "closest",
          "mapbox": {
           "style": "light"
          },
          "paper_bgcolor": "white",
          "plot_bgcolor": "#E5ECF6",
          "polar": {
           "angularaxis": {
            "gridcolor": "white",
            "linecolor": "white",
            "ticks": ""
           },
           "bgcolor": "#E5ECF6",
           "radialaxis": {
            "gridcolor": "white",
            "linecolor": "white",
            "ticks": ""
           }
          },
          "scene": {
           "xaxis": {
            "backgroundcolor": "#E5ECF6",
            "gridcolor": "white",
            "gridwidth": 2,
            "linecolor": "white",
            "showbackground": true,
            "ticks": "",
            "zerolinecolor": "white"
           },
           "yaxis": {
            "backgroundcolor": "#E5ECF6",
            "gridcolor": "white",
            "gridwidth": 2,
            "linecolor": "white",
            "showbackground": true,
            "ticks": "",
            "zerolinecolor": "white"
           },
           "zaxis": {
            "backgroundcolor": "#E5ECF6",
            "gridcolor": "white",
            "gridwidth": 2,
            "linecolor": "white",
            "showbackground": true,
            "ticks": "",
            "zerolinecolor": "white"
           }
          },
          "shapedefaults": {
           "line": {
            "color": "#2a3f5f"
           }
          },
          "ternary": {
           "aaxis": {
            "gridcolor": "white",
            "linecolor": "white",
            "ticks": ""
           },
           "baxis": {
            "gridcolor": "white",
            "linecolor": "white",
            "ticks": ""
           },
           "bgcolor": "#E5ECF6",
           "caxis": {
            "gridcolor": "white",
            "linecolor": "white",
            "ticks": ""
           }
          },
          "title": {
           "x": 0.05
          },
          "xaxis": {
           "automargin": true,
           "gridcolor": "white",
           "linecolor": "white",
           "ticks": "",
           "title": {
            "standoff": 15
           },
           "zerolinecolor": "white",
           "zerolinewidth": 2
          },
          "yaxis": {
           "automargin": true,
           "gridcolor": "white",
           "linecolor": "white",
           "ticks": "",
           "title": {
            "standoff": 15
           },
           "zerolinecolor": "white",
           "zerolinewidth": 2
          }
         }
        },
        "title": {
         "text": "title"
        },
        "xaxis": {
         "autorange": true,
         "range": [
          -12.788250484183344,
          225.78825048418335
         ],
         "type": "category"
        },
        "yaxis": {
         "autorange": true,
         "range": [
          -9.07148041552721,
          108.77298479552721
         ],
         "type": "linear"
        }
       }
      },
      "image/png": "[encoded data removed]",
      "text/html": [
       "<div>                            <div id=\"59c48ae4-1698-49d5-a6b3-e06755938dc9\" class=\"plotly-graph-div\" style=\"height:525px; width:100%;\"></div>            <script type=\"text/javascript\">                require([\"plotly\"], function(Plotly) {                    window.PLOTLYENV=window.PLOTLYENV || {};                                    if (document.getElementById(\"59c48ae4-1698-49d5-a6b3-e06755938dc9\")) {                    Plotly.newPlot(                        \"59c48ae4-1698-49d5-a6b3-e06755938dc9\",                        [{\"marker\":{\"sizemode\":\"area\",\"symbol\":\"square\"},\"mode\":\"markers\",\"x\":[\"Aruba\",\"Afghanistan\",\"Angola\",\"Albania\",\"Andorra\",\"United Arab Emirates\",\"Argentina\",\"Armenia\",\"American Samoa\",\"Antigua and Barbuda\",\"Australia\",\"Austria\",\"Azerbaijan\",\"Burundi\",\"Belgium\",\"Benin\",\"Burkina Faso\",\"Bangladesh\",\"Bulgaria\",\"Bahrain\",\"Bahamas\",\"Bosnia and Herzegovina\",\"Belarus\",\"Belize\",\"Bermuda\",\"Bolivia\",\"Brazil\",\"Barbados\",\"Brunei\",\"Bhutan\",\"Botswana\",\"Central African Republic\",\"Canada\",\"Switzerland\",\"Chile\",\"China\",\"Cote d'Ivoire\",\"Cameroon\",\"Democratic Republic of Congo\",\"Congo\",\"Colombia\",\"Comoros\",\"Cape Verde\",\"Costa Rica\",\"Cuba\",\"Curacao\",\"Cayman Islands\",\"Cyprus\",\"Czechia\",\"Germany\",\"Djibouti\",\"Dominica\",\"Denmark\",\"Dominican Republic\",\"Algeria\",\"Ecuador\",\"Egypt\",\"Eritrea\",\"Spain\",\"Estonia\",\"Ethiopia\",\"Finland\",\"Fiji\",\"France\",\"Faeroe Islands\",\"Micronesia (country)\",\"Gabon\",\"United Kingdom\",\"Georgia\",\"Ghana\",\"Gibraltar\",\"Guinea\",\"Gambia\",\"Guinea-Bissau\",\"Equatorial Guinea\",\"Greece\",\"Grenada\",\"Greenland\",\"Guatemala\",\"Guam\",\"Guyana\",\"Hong Kong\",\"Honduras\",\"Croatia\",\"Haiti\",\"Hungary\",\"Indonesia\",\"India\",\"Ireland\",\"Iran\",\"Iraq\",\"Iceland\",\"Israel\",\"Italy\",\"Jamaica\",\"Jordan\",\"Japan\",\"Kazakhstan\",\"Kenya\",\"Kyrgyzstan\",\"Cambodia\",\"Kiribati\",\"Saint Kitts and Nevis\",\"South Korea\",\"Kuwait\",\"Laos\",\"Lebanon\",\"Liberia\",\"Libya\",\"Saint Lucia\",\"Liechtenstein\",\"Sri Lanka\",\"Lesotho\",\"Lithuania\",\"Luxembourg\",\"Latvia\",\"Macao\",\"Morocco\",\"Monaco\",\"Moldova\",\"Madagascar\",\"Maldives\",\"Mexico\",\"Marshall Islands\",\"North Macedonia\",\"Mali\",\"Malta\",\"Myanmar\",\"Montenegro\",\"Mongolia\",\"Northern Mariana Islands\",\"Mozambique\",\"Mauritania\",\"Mauritius\",\"Malawi\",\"Malaysia\",\"Namibia\",\"New Caledonia\",\"Niger\",\"Nigeria\",\"Nicaragua\",\"Netherlands\",\"Norway\",\"Nepal\",\"Nauru\",\"New Zealand\",\"Oman\",\"Kosovo\",\"World\",\"Pakistan\",\"Panama\",\"Peru\",\"Philippines\",\"Palau\",\"Papua New Guinea\",\"Poland\",\"Puerto Rico\",\"North Korea\",\"Portugal\",\"Paraguay\",\"Palestine\",\"French Polynesia\",\"Qatar\",\"Romania\",\"Russia\",\"Rwanda\",\"Saudi Arabia\",\"Sudan\",\"Senegal\",\"Singapore\",\"Solomon Islands\",\"Sierra Leone\",\"El Salvador\",\"San Marino\",\"Somalia\",\"Serbia\",\"South Sudan\",\"Sao Tome and Principe\",\"Suriname\",\"Slovakia\",\"Slovenia\",\"Sweden\",\"Eswatini\",\"Seychelles\",\"Syria\",\"Turks and Caicos Islands\",\"Chad\",\"Togo\",\"Thailand\",\"Tajikistan\",\"Turkmenistan\",\"Timor\",\"Tonga\",\"Trinidad and Tobago\",\"Tunisia\",\"Turkey\",\"Tuvalu\",\"Tanzania\",\"Uganda\",\"Ukraine\",\"Uruguay\",\"United States\",\"Uzbekistan\",\"Saint Vincent and the Grenadines\",\"Venezuela\",\"British Virgin Islands\",\"United States Virgin Islands\",\"Vietnam\",\"Vanuatu\",\"Samoa\",\"Yemen\",\"South Africa\",\"Zambia\",\"Zimbabwe\"],\"y\":[97.17,11.44768809,14.33907936,69.64285467,91.56746703,99.14999796,74.29490687,68.24505226,0.0,73.0,86.54504885,87.75220479,79.79999549,2.660748535,90.37051309,14.11901233,15.87620691,12.9,67.94698094,99.70150438,85.0,69.94634763,82.78915209,47.0826258,98.37,44.28614216,70.43428254,81.76077839,95.0,41.77264453,41.41379464,4.339254945,92.70137191,93.14608695,82.32748693,54.3,36.45378947,23.20297197,8.619904916,8.65,65.00690072,8.478170295,57.16214635,81.20259644,61.83630006,68.12721625,81.06769325,86.06362996,80.86694441,88.13451691,55.68140925,69.61966879,98.04643475,74.82428986,49.03846808,54.06292473,57.28286878,1.30890698,90.71866533,89.53232756,18.61805145,89.60738511,49.96637301,83.33974409,97.58195894,35.30405287,50.32012015,92.51662855,68.84671356,37.88415262,94.44447158,21.83002304,19.83645444,3.930509152,26.23999996,75.67120669,59.07173536,69.48246178,40.70304908,80.50546556,37.32583679,91.74340039,32.13636364,79.07978368,32.47362713,80.37169361,47.69064898,20.08130004,84.52230206,70.00455222,75.00000131,99.01095399,86.78787762,74.38718292,55.07206705,66.79031443,91.28160849,81.87762554,22.56511937,38.19903776,40.5459865,14.58181818,80.71019081,96.15758265,99.54267645,25.51043508,78.18077489,7.984479722,21.75892062,50.81524478,99.54661245,34.1133479,29.78780333,81.58186838,97.06129871,86.13545644,86.46792571,74.37631447,97.05297684,76.12451989,4.713662899,63.18566588,70.06991047,38.70116262,79.16775519,12.72064096,85.77859638,23.62108195,73.47666575,51.07999408,0.0,20.7740003,20.80096366,63.99989817,13.78216439,84.21322418,36.83740647,82.0058408,5.250487687,7.469439317,27.86304001,93.2885906,98.00000439,21.40351043,62.38512451,90.81109307,92.40844424,89.44303197,48.9969115845464,17.07090203,63.62841477,59.9505036,43.02661187,26.97033263,11.20919659,84.51645192,70.8743212,0.0,75.34637155,68.51762842,70.62260685,72.70389531,99.65280421,73.65748258,82.64216187,21.76763262,95.7247356,30.87029573,29.64312367,88.94925269,11.92422906,13.23693043,33.8207289,60.18230126,2.004048698,77.41677362,7.977428907,29.9312292,48.94517397,82.8536605,83.1083578,94.49344341,30.3,58.76981124,34.25340193,0.0,6.49999812,12.36022497,66.65241317,21.96,21.25099741,27.49273173,41.24872764,77.32605293,66.6999983,73.97670403,49.31833862,15.99999943,23.70653091,62.55315539,76.94955197,88.49890317,55.20000067,20.68943522,64.31336383,77.70426829,64.3774943,68.7,25.71978784,33.61093932,26.71835477,56.16739447,14.2999971,27.05548769],\"type\":\"scatter\"}],                        {\"template\":{\"data\":{\"histogram2dcontour\":[{\"type\":\"histogram2dcontour\",\"colorbar\":{\"outlinewidth\":0,\"ticks\":\"\"},\"colorscale\":[[0.0,\"#0d0887\"],[0.1111111111111111,\"#46039f\"],[0.2222222222222222,\"#7201a8\"],[0.3333333333333333,\"#9c179e\"],[0.4444444444444444,\"#bd3786\"],[0.5555555555555556,\"#d8576b\"],[0.6666666666666666,\"#ed7953\"],[0.7777777777777778,\"#fb9f3a\"],[0.8888888888888888,\"#fdca26\"],[1.0,\"#f0f921\"]]}],\"choropleth\":[{\"type\":\"choropleth\",\"colorbar\":{\"outlinewidth\":0,\"ticks\":\"\"}}],\"histogram2d\":[{\"type\":\"histogram2d\",\"colorbar\":{\"outlinewidth\":0,\"ticks\":\"\"},\"colorscale\":[[0.0,\"#0d0887\"],[0.1111111111111111,\"#46039f\"],[0.2222222222222222,\"#7201a8\"],[0.3333333333333333,\"#9c179e\"],[0.4444444444444444,\"#bd3786\"],[0.5555555555555556,\"#d8576b\"],[0.6666666666666666,\"#ed7953\"],[0.7777777777777778,\"#fb9f3a\"],[0.8888888888888888,\"#fdca26\"],[1.0,\"#f0f921\"]]}],\"heatmap\":[{\"type\":\"heatmap\",\"colorbar\":{\"outlinewidth\":0,\"ticks\":\"\"},\"colorscale\":[[0.0,\"#0d0887\"],[0.1111111111111111,\"#46039f\"],[0.2222222222222222,\"#7201a8\"],[0.3333333333333333,\"#9c179e\"],[0.4444444444444444,\"#bd3786\"],[0.5555555555555556,\"#d8576b\"],[0.6666666666666666,\"#ed7953\"],[0.7777777777777778,\"#fb9f3a\"],[0.8888888888888888,\"#fdca26\"],[1.0,\"#f0f921\"]]}],\"heatmapgl\":[{\"type\":\"heatmapgl\",\"colorbar\":{\"outlinewidth\":0,\"ticks\":\"\"},\"colorscale\":[[0.0,\"#0d0887\"],[0.1111111111111111,\"#46039f\"],[0.2222222222222222,\"#7201a8\"],[0.3333333333333333,\"#9c179e\"],[0.4444444444444444,\"#bd3786\"],[0.5555555555555556,\"#d8576b\"],[0.6666666666666666,\"#ed7953\"],[0.7777777777777778,\"#fb9f3a\"],[0.8888888888888888,\"#fdca26\"],[1.0,\"#f0f921\"]]}],\"contourcarpet\":[{\"type\":\"contourcarpet\",\"colorbar\":{\"outlinewidth\":0,\"ticks\":\"\"}}],\"contour\":[{\"type\":\"contour\",\"colorbar\":{\"outlinewidth\":0,\"ticks\":\"\"},\"colorscale\":[[0.0,\"#0d0887\"],[0.1111111111111111,\"#46039f\"],[0.2222222222222222,\"#7201a8\"],[0.3333333333333333,\"#9c179e\"],[0.4444444444444444,\"#bd3786\"],[0.5555555555555556,\"#d8576b\"],[0.6666666666666666,\"#ed7953\"],[0.7777777777777778,\"#fb9f3a\"],[0.8888888888888888,\"#fdca26\"],[1.0,\"#f0f921\"]]}],\"surface\":[{\"type\":\"surface\",\"colorbar\":{\"outlinewidth\":0,\"ticks\":\"\"},\"colorscale\":[[0.0,\"#0d0887\"],[0.1111111111111111,\"#46039f\"],[0.2222222222222222,\"#7201a8\"],[0.3333333333333333,\"#9c179e\"],[0.4444444444444444,\"#bd3786\"],[0.5555555555555556,\"#d8576b\"],[0.6666666666666666,\"#ed7953\"],[0.7777777777777778,\"#fb9f3a\"],[0.8888888888888888,\"#fdca26\"],[1.0,\"#f0f921\"]]}],\"mesh3d\":[{\"type\":\"mesh3d\",\"colorbar\":{\"outlinewidth\":0,\"ticks\":\"\"}}],\"scatter\":[{\"fillpattern\":{\"fillmode\":\"overlay\",\"size\":10,\"solidity\":0.2},\"type\":\"scatter\"}],\"parcoords\":[{\"type\":\"parcoords\",\"line\":{\"colorbar\":{\"outlinewidth\":0,\"ticks\":\"\"}}}],\"scatterpolargl\":[{\"type\":\"scatterpolargl\",\"marker\":{\"colorbar\":{\"outlinewidth\":0,\"ticks\":\"\"}}}],\"bar\":[{\"error_x\":{\"color\":\"#2a3f5f\"},\"error_y\":{\"color\":\"#2a3f5f\"},\"marker\":{\"line\":{\"color\":\"#E5ECF6\",\"width\":0.5},\"pattern\":{\"fillmode\":\"overlay\",\"size\":10,\"solidity\":0.2}},\"type\":\"bar\"}],\"scattergeo\":[{\"type\":\"scattergeo\",\"marker\":{\"colorbar\":{\"outlinewidth\":0,\"ticks\":\"\"}}}],\"scatterpolar\":[{\"type\":\"scatterpolar\",\"marker\":{\"colorbar\":{\"outlinewidth\":0,\"ticks\":\"\"}}}],\"histogram\":[{\"marker\":{\"pattern\":{\"fillmode\":\"overlay\",\"size\":10,\"solidity\":0.2}},\"type\":\"histogram\"}],\"scattergl\":[{\"type\":\"scattergl\",\"marker\":{\"colorbar\":{\"outlinewidth\":0,\"ticks\":\"\"}}}],\"scatter3d\":[{\"type\":\"scatter3d\",\"line\":{\"colorbar\":{\"outlinewidth\":0,\"ticks\":\"\"}},\"marker\":{\"colorbar\":{\"outlinewidth\":0,\"ticks\":\"\"}}}],\"scattermapbox\":[{\"type\":\"scattermapbox\",\"marker\":{\"colorbar\":{\"outlinewidth\":0,\"ticks\":\"\"}}}],\"scatterternary\":[{\"type\":\"scatterternary\",\"marker\":{\"colorbar\":{\"outlinewidth\":0,\"ticks\":\"\"}}}],\"scattercarpet\":[{\"type\":\"scattercarpet\",\"marker\":{\"colorbar\":{\"outlinewidth\":0,\"ticks\":\"\"}}}],\"carpet\":[{\"aaxis\":{\"endlinecolor\":\"#2a3f5f\",\"gridcolor\":\"white\",\"linecolor\":\"white\",\"minorgridcolor\":\"white\",\"startlinecolor\":\"#2a3f5f\"},\"baxis\":{\"endlinecolor\":\"#2a3f5f\",\"gridcolor\":\"white\",\"linecolor\":\"white\",\"minorgridcolor\":\"white\",\"startlinecolor\":\"#2a3f5f\"},\"type\":\"carpet\"}],\"table\":[{\"cells\":{\"fill\":{\"color\":\"#EBF0F8\"},\"line\":{\"color\":\"white\"}},\"header\":{\"fill\":{\"color\":\"#C8D4E3\"},\"line\":{\"color\":\"white\"}},\"type\":\"table\"}],\"barpolar\":[{\"marker\":{\"line\":{\"color\":\"#E5ECF6\",\"width\":0.5},\"pattern\":{\"fillmode\":\"overlay\",\"size\":10,\"solidity\":0.2}},\"type\":\"barpolar\"}],\"pie\":[{\"automargin\":true,\"type\":\"pie\"}]},\"layout\":{\"autotypenumbers\":\"strict\",\"colorway\":[\"#636efa\",\"#EF553B\",\"#00cc96\",\"#ab63fa\",\"#FFA15A\",\"#19d3f3\",\"#FF6692\",\"#B6E880\",\"#FF97FF\",\"#FECB52\"],\"font\":{\"color\":\"#2a3f5f\"},\"hovermode\":\"closest\",\"hoverlabel\":{\"align\":\"left\"},\"paper_bgcolor\":\"white\",\"plot_bgcolor\":\"#E5ECF6\",\"polar\":{\"bgcolor\":\"#E5ECF6\",\"angularaxis\":{\"gridcolor\":\"white\",\"linecolor\":\"white\",\"ticks\":\"\"},\"radialaxis\":{\"gridcolor\":\"white\",\"linecolor\":\"white\",\"ticks\":\"\"}},\"ternary\":{\"bgcolor\":\"#E5ECF6\",\"aaxis\":{\"gridcolor\":\"white\",\"linecolor\":\"white\",\"ticks\":\"\"},\"baxis\":{\"gridcolor\":\"white\",\"linecolor\":\"white\",\"ticks\":\"\"},\"caxis\":{\"gridcolor\":\"white\",\"linecolor\":\"white\",\"ticks\":\"\"}},\"coloraxis\":{\"colorbar\":{\"outlinewidth\":0,\"ticks\":\"\"}},\"colorscale\":{\"sequential\":[[0.0,\"#0d0887\"],[0.1111111111111111,\"#46039f\"],[0.2222222222222222,\"#7201a8\"],[0.3333333333333333,\"#9c179e\"],[0.4444444444444444,\"#bd3786\"],[0.5555555555555556,\"#d8576b\"],[0.6666666666666666,\"#ed7953\"],[0.7777777777777778,\"#fb9f3a\"],[0.8888888888888888,\"#fdca26\"],[1.0,\"#f0f921\"]],\"sequentialminus\":[[0.0,\"#0d0887\"],[0.1111111111111111,\"#46039f\"],[0.2222222222222222,\"#7201a8\"],[0.3333333333333333,\"#9c179e\"],[0.4444444444444444,\"#bd3786\"],[0.5555555555555556,\"#d8576b\"],[0.6666666666666666,\"#ed7953\"],[0.7777777777777778,\"#fb9f3a\"],[0.8888888888888888,\"#fdca26\"],[1.0,\"#f0f921\"]],\"diverging\":[[0,\"#8e0152\"],[0.1,\"#c51b7d\"],[0.2,\"#de77ae\"],[0.3,\"#f1b6da\"],[0.4,\"#fde0ef\"],[0.5,\"#f7f7f7\"],[0.6,\"#e6f5d0\"],[0.7,\"#b8e186\"],[0.8,\"#7fbc41\"],[0.9,\"#4d9221\"],[1,\"#276419\"]]},\"xaxis\":{\"gridcolor\":\"white\",\"linecolor\":\"white\",\"ticks\":\"\",\"title\":{\"standoff\":15},\"zerolinecolor\":\"white\",\"automargin\":true,\"zerolinewidth\":2},\"yaxis\":{\"gridcolor\":\"white\",\"linecolor\":\"white\",\"ticks\":\"\",\"title\":{\"standoff\":15},\"zerolinecolor\":\"white\",\"automargin\":true,\"zerolinewidth\":2},\"scene\":{\"xaxis\":{\"backgroundcolor\":\"#E5ECF6\",\"gridcolor\":\"white\",\"linecolor\":\"white\",\"showbackground\":true,\"ticks\":\"\",\"zerolinecolor\":\"white\",\"gridwidth\":2},\"yaxis\":{\"backgroundcolor\":\"#E5ECF6\",\"gridcolor\":\"white\",\"linecolor\":\"white\",\"showbackground\":true,\"ticks\":\"\",\"zerolinecolor\":\"white\",\"gridwidth\":2},\"zaxis\":{\"backgroundcolor\":\"#E5ECF6\",\"gridcolor\":\"white\",\"linecolor\":\"white\",\"showbackground\":true,\"ticks\":\"\",\"zerolinecolor\":\"white\",\"gridwidth\":2}},\"shapedefaults\":{\"line\":{\"color\":\"#2a3f5f\"}},\"annotationdefaults\":{\"arrowcolor\":\"#2a3f5f\",\"arrowhead\":0,\"arrowwidth\":1},\"geo\":{\"bgcolor\":\"white\",\"landcolor\":\"#E5ECF6\",\"subunitcolor\":\"white\",\"showland\":true,\"showlakes\":true,\"lakecolor\":\"white\"},\"title\":{\"x\":0.05},\"mapbox\":{\"style\":\"light\"}}},\"title\":{\"text\":\"title\"}},                        {\"responsive\": true}                    ).then(function(){\n",
       "                            \n",
       "var gd = document.getElementById('59c48ae4-1698-49d5-a6b3-e06755938dc9');\n",
       "var x = new MutationObserver(function (mutations, observer) {{\n",
       "        var display = window.getComputedStyle(gd).display;\n",
       "        if (!display || display === 'none') {{\n",
       "            console.log([gd, 'removed!']);\n",
       "            Plotly.purge(gd);\n",
       "            observer.disconnect();\n",
       "        }}\n",
       "}});\n",
       "\n",
       "// Listen for the removal of the full notebook cells\n",
       "var notebookContainer = gd.closest('#notebook-container');\n",
       "if (notebookContainer) {{\n",
       "    x.observe(notebookContainer, {childList: true});\n",
       "}}\n",
       "\n",
       "// Listen for the clearing of the current output cell\n",
       "var outputEl = gd.closest('.output');\n",
       "if (outputEl) {{\n",
       "    x.observe(outputEl, {childList: true});\n",
       "}}\n",
       "\n",
       "                        })                };                });            </script>        </div>"
      ]
     },
     "metadata": {},
     "output_type": "display_data"
    }
   ],
   "source": [
    "fig = go.Figure(data=go.Scatter(\n",
    "    x=df['Country'],\n",
    "    y=df['Percentage'],\n",
    "    mode='markers',\n",
    "    marker=dict(\n",
    "        symbol=\"square\",\n",
    "        sizemode=\"area\", # area\n",
    "        #size=marker_size,\n",
    "        #sizeref=sizeref, # max(df[column])*0.01\n",
    "        #color=\"Year\"),\n",
    "        #name=name, # legend\n",
    "        #text=data, # hover text\n",
    "        #hovertemplate=hovertemplate,\n",
    ")))\n",
    "\n",
    "fig.update_layout(title=\"title\")\n",
    "\n",
    "fig.show()"
   ]
  },
  {
   "cell_type": "markdown",
   "id": "929ea6a9-8c8b-40b6-8b68-f5ee93a555de",
   "metadata": {},
   "source": [
    "# BAR VERTICAL (GROUP AND STACKED IN ONE FUNCTION?)"
   ]
  },
  {
   "cell_type": "markdown",
   "id": "6ff93bfd-abe5-4597-b8b8-5ca37afaf24a",
   "metadata": {},
   "source": [
    "Use case:\n",
    "\n",
    "Stacked: Tests, 1945 to 2022\n",
    "\n",
    "https://plotly.com/python/bar-charts/#basic-bar-charts-with-plotlygraphobjects"
   ]
  },
  {
   "cell_type": "code",
   "execution_count": null,
   "id": "54f073fc-d3a6-423d-8fbe-b1baf5e2f430",
   "metadata": {},
   "outputs": [],
   "source": [
    "fig = go.Figure()\n",
    "\n",
    "# for loop tba\n",
    "\n",
    "# traceS ??? tba\n",
    "\n",
    "fig.add_trace(go.Bar(\n",
    "    x=x,\n",
    "    y=y,\n",
    "    name=name,\n",
    "    hovertext=hovertext, # list ?\n",
    ")\n",
    " \n",
    "fig.update_traces(\n",
    "    marker_color=marker_color,\n",
    "    marker_line_color=marker_line_color,\n",
    "    marker_line_width=1.5,\n",
    "    opacity=0.6,\n",
    ")\n",
    "\n",
    "# choose barmode group or stacked?\n",
    "    \n",
    "fig.update_layout(\n",
    "    barmode='group', # \"stack\"\n",
    "    title_text=title_text,\n",
    ")"
   ]
  },
  {
   "cell_type": "markdown",
   "id": "784e747e-1626-4ce2-a7f4-9d563722b02f",
   "metadata": {},
   "source": [
    "# BAR HORIZONTAL"
   ]
  },
  {
   "cell_type": "markdown",
   "id": "2b2971f4-9f5e-4198-9cb7-b5d95fbdc4fe",
   "metadata": {},
   "source": [
    "Use case:\n",
    "\n",
    "Warhead inventories, 2022\n",
    "\n",
    "https://plotly.com/python/horizontal-bar-charts/#horizontal-bar-chart-with-gobar"
   ]
  },
  {
   "cell_type": "code",
   "execution_count": null,
   "id": "1ab8b681-7336-4037-a501-1f5d80826873",
   "metadata": {},
   "outputs": [],
   "source": [
    "fig = go.Figure()\n",
    "\n",
    "# for loop tba\n",
    "\n",
    "fig.add_trace(go.Bar(\n",
    "    x=x,\n",
    "    y=y,\n",
    "    name=name,\n",
    "    hovertext=hovertext, # list ?\n",
    ")\n",
    " \n",
    "fig.update_traces(\n",
    "    marker_color=marker_color,\n",
    "    marker_line_color=marker_line_color,\n",
    "    marker_line_width=1.5,\n",
    "    opacity=0.6,\n",
    ")\n",
    "\n",
    "# choose barmode group or stacked?\n",
    "    \n",
    "fig.update_layout(\n",
    "    barmode='stack', # group, stack\n",
    "    title_text=title_text,\n",
    ")"
   ]
  },
  {
   "cell_type": "markdown",
   "id": "33343da1-5915-48d6-92a1-667c949b40b4",
   "metadata": {},
   "source": [
    "# STATISTICAL METHODS"
   ]
  },
  {
   "cell_type": "markdown",
   "id": "7e1704d3-d4f9-4a12-879c-af5cc08ff8b0",
   "metadata": {},
   "source": [
    "# HEATMAP"
   ]
  },
  {
   "cell_type": "markdown",
   "id": "dbf7fc76-67eb-4e9f-853c-fc21be1d4212",
   "metadata": {},
   "source": [
    "https://plotly.com/python/heatmaps/"
   ]
  },
  {
   "cell_type": "markdown",
   "id": "35e85156-8ed9-436c-97c5-74f5adf76908",
   "metadata": {},
   "source": [
    "# CORRELATIONS ..."
   ]
  },
  {
   "cell_type": "markdown",
   "id": "c7d4fe34-ce7b-4b96-a06b-c5a9fc75b278",
   "metadata": {},
   "source": [
    "# REGRESSION"
   ]
  },
  {
   "cell_type": "markdown",
   "id": "c14f5149-da53-46f1-97cd-08ec5cf19574",
   "metadata": {},
   "source": [
    "https://plotly.com/python/linear-fits/"
   ]
  },
  {
   "cell_type": "code",
   "execution_count": null,
   "id": "16c5eb9e-c308-4874-b175-68ccbe7ce288",
   "metadata": {},
   "outputs": [],
   "source": []
  }
 ],
 "metadata": {
  "kernelspec": {
   "display_name": "VIZ",
   "language": "python",
   "name": "viz"
  },
  "language_info": {
   "codemirror_mode": {
    "name": "ipython",
    "version": 3
   },
   "file_extension": ".py",
   "mimetype": "text/x-python",
   "name": "python",
   "nbconvert_exporter": "python",
   "pygments_lexer": "ipython3",
   "version": "3.10.8"
  }
 },
 "nbformat": 4,
 "nbformat_minor": 5
}

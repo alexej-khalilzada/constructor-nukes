{
 "cells": [
  {
   "cell_type": "code",
   "execution_count": null,
   "id": "ccb99596-01f9-4952-828f-084d3b636e87",
   "metadata": {
    "jupyter": {
     "source_hidden": true
    },
    "tags": []
   },
   "outputs": [],
   "source": [
    "# Variables:\n",
    "\n",
    "# DATA:\n",
    "# df_data\n",
    "# location_data\n",
    "# color_data\n",
    "\n",
    "# PARAMETER:\n",
    "# width_par\n",
    "# height_par\n",
    "# hover_name_par\n",
    "# title_par\n",
    "\n",
    "# DICTIONARIES:\n",
    "# labels_dict\n",
    "# hover_data_dict\n",
    "\n",
    "fig = px.choropleth(    \n",
    "    data_frame=df_data,\n",
    "    locations=location_data,\n",
    "    color=color_data,\n",
    "    width=width_par,\n",
    "    height=height_par,\n",
    "    labels=labels_dict,\n",
    "    hover_name=hover_name_par,\n",
    "    hover_data=hover_data_dict,\n",
    "    title=title_par,\n",
    "    color_continuous_scale=ccs_par,\n",
    ")\n",
    "\n",
    "fig.update_traces(marker={\"opacity\":0.7})\n",
    "\n",
    "fig.update_layout(margin={\"r\":20,\"t\":50,\"l\":0,\"b\":5},\n",
    "                  font_family=\"Rockwell\",\n",
    "                  hoverlabel={\"bgcolor\":\"white\",\n",
    "                              \"font_size\":12,\n",
    "                              \"font_family\":\"Rockwell\"},\n",
    "                  title={\"font_size\":20,\n",
    "                         \"xanchor\":\"left\", \"x\":0.01,\n",
    "                         \"yanchor\":\"top\"},\n",
    "                  geo={\"resolution\":50,\n",
    "                       \"showlakes\":True, \"lakecolor\":\"lightblue\",\n",
    "                       \"showocean\":True, \"oceancolor\":\"aliceblue\"\n",
    "                      }\n",
    ")"
   ]
  },
  {
   "cell_type": "code",
   "execution_count": null,
   "id": "990ebc6e-c10b-4dc1-8a1e-e53af18273da",
   "metadata": {},
   "outputs": [],
   "source": [
    "def cplot(df):\n",
    "    fig = go.Figure(data=go.Choropleth(\n",
    "        locations=df['Code'],\n",
    "        z=df['Percentage'],\n",
    "        colorscale='ice',\n",
    "\n",
    "        text=df['Country'],  # hover text\n",
    "        marker_line_color='white',  # line markers between states\n",
    "        colorbar_title=\"% Pop.\", marker_line_width=0)\n",
    "    )\n",
    "\n",
    "    #fig.update_layout(title_text='World wide web usage,')\n",
    "    fig.update_layout(margin=dict(l=50, r=50, t=50, b=50), height=640,\n",
    "                      plot_bgcolor=\"#0e1117\",\n",
    "                      paper_bgcolor=\"#0e1117\",\n",
    "                      font_color=\"white\",\n",
    "                      geo_bgcolor=\"#0e1117\",\n",
    "                      )\n",
    "    fig.update_geos(showlakes=False,\n",
    "                    projection_type=\"orthographic\",\n",
    "                    projection_rotation=dict(lon=10, lat=45, roll=0),\n",
    "                    )\n",
    "    #fig.update_traces(unselected_marker_opacity=0.5, selector=dict(type='choropleth'))\n",
    "    title='Im a title'\n",
    "    description = 'Example description'\n",
    "    key='inetusage'\n",
    "    lib = 'plotly_go'\n",
    "    info_dict=dict(title=title, description=description, lib=lib)\n",
    "    return (key,fig,info_dict)"
   ]
  }
 ],
 "metadata": {
  "kernelspec": {
   "display_name": "VIZ",
   "language": "python",
   "name": "viz"
  },
  "language_info": {
   "codemirror_mode": {
    "name": "ipython",
    "version": 3
   },
   "file_extension": ".py",
   "mimetype": "text/x-python",
   "name": "python",
   "nbconvert_exporter": "python",
   "pygments_lexer": "ipython3",
   "version": "3.10.8"
  }
 },
 "nbformat": 4,
 "nbformat_minor": 5
}

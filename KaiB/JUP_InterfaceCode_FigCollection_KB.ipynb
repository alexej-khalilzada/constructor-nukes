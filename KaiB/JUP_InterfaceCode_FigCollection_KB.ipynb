{
 "cells": [
  {
   "cell_type": "code",
   "execution_count": null,
   "id": "afc3776d-5331-4d10-9d59-bc7e4e55af59",
   "metadata": {},
   "outputs": [],
   "source": [
    "import pandas as pd\n",
    "import plotly.express as px\n",
    "import json\n",
    "import plotly.graph_objects as go"
   ]
  },
  {
   "cell_type": "markdown",
   "id": "c8df272e-069d-475e-a273-017732e40fb6",
   "metadata": {
    "tags": []
   },
   "source": [
    "# INTERFACE CODE"
   ]
  },
  {
   "cell_type": "code",
   "execution_count": null,
   "id": "536bb4d0-ea2e-4240-a048-fd6c83e02be6",
   "metadata": {},
   "outputs": [],
   "source": [
    "def plot(df):\n",
    "    \n",
    "    # fig code\n",
    "    \n",
    "    # interface parameters\n",
    "\n",
    "    title='Im a title'\n",
    "    description = 'Example description'\n",
    "    key='inetusage'\n",
    "    lib='plotly_go'\n",
    "    info_dict=dict(title=title, description=description, lib=lib)\n",
    "    return (key,fig,info_dict)"
   ]
  },
  {
   "cell_type": "code",
   "execution_count": null,
   "id": "b42fe3e8-e9e1-4da7-acfb-2d099f20d544",
   "metadata": {},
   "outputs": [],
   "source": [
    "plot1 = plot(df)\n",
    "plots = []\n",
    "plots.append(plot1)"
   ]
  },
  {
   "cell_type": "code",
   "execution_count": null,
   "id": "ad4bb14a-d106-4091-b959-27586067fcbf",
   "metadata": {},
   "outputs": [],
   "source": [
    "def get_plots():\n",
    "    return plots"
   ]
  },
  {
   "cell_type": "markdown",
   "id": "0e31ade2-2407-4c72-a9c9-39bf38acd436",
   "metadata": {},
   "source": [
    "# FIG CODE FOR FUNCTIONS"
   ]
  },
  {
   "cell_type": "markdown",
   "id": "cb29611b-9a4a-41af-bf5a-a7414c2010b8",
   "metadata": {
    "tags": []
   },
   "source": [
    "# CHOROPLETH 3D"
   ]
  },
  {
   "cell_type": "markdown",
   "id": "1dd4d16a-8f60-401a-ad94-40660f10a5e3",
   "metadata": {},
   "source": [
    "Use case: global map showing status/stockpile per year\n",
    "\n",
    "https://plotly.com/python/choropleth-maps/#choropleth-maps-with-gochoropleth"
   ]
  },
  {
   "cell_type": "code",
   "execution_count": null,
   "id": "9ad4a708-4c11-44d6-affa-711fde96116f",
   "metadata": {},
   "outputs": [],
   "source": [
    "fig = go.Figure(data=go.Choropleth(\n",
    "    locations=locations,\n",
    "    z=z, # Data to be color-coded\n",
    "    colorscale=colorscale,\n",
    "    name=name, # legend\n",
    "    text=text, # hover text\n",
    "    marker_line_color=marker_line_color,  # line markers between states\n",
    "    marker_line_width=0,\n",
    "    colorbar_title=colorbar_title,\n",
    "))\n",
    "\n",
    "fig.update_layout(\n",
    "    title_text=title_text,\n",
    "    margin=dict(l=50, r=50, t=50, b=50),\n",
    "    height=640,\n",
    "    plot_bgcolor=\"#0e1117\",\n",
    "    paper_bgcolor=\"#0e1117\",\n",
    "    font_color=\"white\",\n",
    "    geo_bgcolor=\"#0e1117\",\n",
    ")\n",
    "\n",
    "fig.update_geos(\n",
    "    showlakes=False,\n",
    "    projection_type=\"orthographic\",\n",
    "    projection_rotation=dict(lon=10, lat=45, roll=0),\n",
    ")"
   ]
  },
  {
   "cell_type": "markdown",
   "id": "39b656e3-b89d-4a3c-ab7f-749fc2cd7e3b",
   "metadata": {
    "tags": []
   },
   "source": [
    "# CHOROPLETH 2D"
   ]
  },
  {
   "cell_type": "markdown",
   "id": "83ca1495-be86-41f4-b0a3-edf2da935530",
   "metadata": {},
   "source": [
    "Use case: global map showing status/stockpile per year\n",
    "\n",
    "https://plotly.com/python/choropleth-maps/#choropleth-maps-with-gochoropleth"
   ]
  },
  {
   "cell_type": "code",
   "execution_count": null,
   "id": "22ece0a3-3f28-4e69-9297-448ef2fe7667",
   "metadata": {},
   "outputs": [],
   "source": [
    "fig = go.Figure(data=go.Choropleth(\n",
    "    locations=locations,\n",
    "    z=z, # Data to be color-coded\n",
    "    colorscale=colorscale,\n",
    "    name=name, # legend\n",
    "    text=text, # hover text\n",
    "    marker_line_color=marker_line_color,  # line markers between states\n",
    "    marker_line_width=0,\n",
    "    colorbar_title=colorbar_title,\n",
    "))\n",
    "\n",
    "fig.update_layout(\n",
    "    title_text=title_text,\n",
    "    margin=dict(l=50, r=50, t=50, b=50),\n",
    "    height=640,\n",
    "    plot_bgcolor=\"#0e1117\",\n",
    "    paper_bgcolor=\"#0e1117\",\n",
    "    font_color=\"white\",\n",
    "    geo_bgcolor=\"#0e1117\",\n",
    ")"
   ]
  },
  {
   "cell_type": "markdown",
   "id": "49a9e042-87ae-488c-93d9-3647264ed752",
   "metadata": {},
   "source": [
    "# BUBBLE MAP"
   ]
  },
  {
   "cell_type": "markdown",
   "id": "82151def-ea26-48ac-bb70-47ad6447bf53",
   "metadata": {},
   "source": [
    "Use case:\n",
    "As a trace for global map showing status/stockpile per year\n",
    "\n",
    "https://plotly.com/python/bubble-maps/#bubble-map-with-goscattergeo"
   ]
  },
  {
   "cell_type": "code",
   "execution_count": 42,
   "id": "b57faa29-4dcf-4289-8aa3-e99495d45957",
   "metadata": {
    "collapsed": true,
    "jupyter": {
     "outputs_hidden": true
    },
    "tags": []
   },
   "outputs": [
    {
     "ename": "NameError",
     "evalue": "name 'limits' is not defined",
     "output_type": "error",
     "traceback": [
      "\u001b[1;31m---------------------------------------------------------------------------\u001b[0m",
      "\u001b[1;31mNameError\u001b[0m                                 Traceback (most recent call last)",
      "Input \u001b[1;32mIn [42]\u001b[0m, in \u001b[0;36m<cell line: 10>\u001b[1;34m()\u001b[0m\n\u001b[0;32m      5\u001b[0m \u001b[38;5;66;03m# limits = [(0,2),(3,10),(11,20),(21,50),(50,3000)]\u001b[39;00m\n\u001b[0;32m      6\u001b[0m \u001b[38;5;66;03m# colors = [\"royalblue\",\"crimson\",\"lightseagreen\",\"orange\",\"lightgrey\"]\u001b[39;00m\n\u001b[0;32m      8\u001b[0m fig \u001b[38;5;241m=\u001b[39m go\u001b[38;5;241m.\u001b[39mFigure()\n\u001b[1;32m---> 10\u001b[0m \u001b[38;5;28;01mfor\u001b[39;00m i \u001b[38;5;129;01min\u001b[39;00m \u001b[38;5;28mrange\u001b[39m(\u001b[38;5;28mlen\u001b[39m(\u001b[43mlimits\u001b[49m)):\n\u001b[0;32m     11\u001b[0m     lim \u001b[38;5;241m=\u001b[39m limits[i]\n\u001b[0;32m     12\u001b[0m     df_sub \u001b[38;5;241m=\u001b[39m df[lim[\u001b[38;5;241m0\u001b[39m]:lim[\u001b[38;5;241m1\u001b[39m]]\n",
      "\u001b[1;31mNameError\u001b[0m: name 'limits' is not defined"
     ]
    }
   ],
   "source": [
    "# limits = [(0,2),(3,10),(11,20),(21,50),(50,3000)]\n",
    "# colors = [\"royalblue\",\"crimson\",\"lightseagreen\",\"orange\",\"lightgrey\"]\n",
    "\n",
    "fig = go.Figure()\n",
    "\n",
    "for i in range(len(limits)):\n",
    "    lim = limits[i]\n",
    "    df_sub = df[lim[0]:lim[1]]\n",
    "    fig.add_trace(go.Scattergeo(\n",
    "        locationmode = 'country names',\n",
    "        lon = df_sub['lon'],\n",
    "        lat = df_sub['lat'],\n",
    "        text = df_sub['text'],\n",
    "        marker = dict(\n",
    "            #size = df_sub[COLUMN]/scale,\n",
    "            color = colors[i],\n",
    "            line_color='rgb(40,40,40)',\n",
    "            line_width=0.5,\n",
    "            sizemode = 'area'\n",
    "        ),\n",
    "        name = '{0} - {1}'.format(lim[0],lim[1])))\n",
    "\n",
    "fig.update_layout(\n",
    "        title_text = title_text,\n",
    "        showlegend = True,\n",
    "        geo = dict(\n",
    "            #scope = 'usa',\n",
    "            landcolor = 'rgb(217, 217, 217)',\n",
    "        )\n",
    ")"
   ]
  },
  {
   "cell_type": "markdown",
   "id": "9eedb327-baed-4348-a2d8-665da627fb91",
   "metadata": {},
   "source": [
    "# SCATTER LINE"
   ]
  },
  {
   "cell_type": "markdown",
   "id": "682f311a-7ecd-4710-9959-214c02416942",
   "metadata": {},
   "source": [
    "Use case:\n",
    "Possession, 1945 to 2022\n",
    "+ Events\n",
    "\n",
    "https://plotly.com/python/line-charts/#line-plot-with-goscatter"
   ]
  },
  {
   "cell_type": "code",
   "execution_count": null,
   "id": "b12e7c82-289a-4def-85e7-0707b16d77f1",
   "metadata": {},
   "outputs": [],
   "source": [
    "fig = go.Figure(data=go.Scatter(\n",
    "    x=x,\n",
    "    y=y,\n",
    "    mode=\"lines\",\n",
    "    name=name, # legend\n",
    "    text=data # hover text\n",
    "))\n",
    "\n",
    "fig.update_layout(title=title)"
   ]
  },
  {
   "cell_type": "markdown",
   "id": "55c17617-0cf4-4fd6-8dc9-31b9427c933a",
   "metadata": {},
   "source": [
    "# SCATTER MARKER BUBBLES"
   ]
  },
  {
   "cell_type": "markdown",
   "id": "95a5d2cb-c6d0-4d0c-abd5-28a008d737f3",
   "metadata": {},
   "source": [
    "Not sure if we will need this because we probably only need a bubble map as shown above.\n",
    "\n",
    "https://plotly.com/python/line-and-scatter/#scatter-and-line-plots-with-goscatter"
   ]
  },
  {
   "cell_type": "code",
   "execution_count": null,
   "id": "f96ae7f0-67cb-4676-894a-7f8d3437e79a",
   "metadata": {},
   "outputs": [],
   "source": [
    "fig = go.Figure(data=go.Scatter(\n",
    "    x=x,\n",
    "    y=y,\n",
    "    mode='markers',\n",
    "    marker=dict(\n",
    "        symbol=symbol,\n",
    "        sizemode=sizemode, # area\n",
    "        size=marker_size,\n",
    "        sizeref=sizeref, # max(df[column])*0.01\n",
    "        color=marker_color),\n",
    "        name=name, # legend\n",
    "        text=data, # hover text\n",
    "        hovertemplate=hovertemplate,\n",
    "))\n",
    "\n",
    "fig.update_layout(title=title)"
   ]
  },
  {
   "cell_type": "markdown",
   "id": "929ea6a9-8c8b-40b6-8b68-f5ee93a555de",
   "metadata": {},
   "source": [
    "# BAR VERTICAL (GROUP AND STACKED IN ONE FUNCTION?)"
   ]
  },
  {
   "cell_type": "markdown",
   "id": "6ff93bfd-abe5-4597-b8b8-5ca37afaf24a",
   "metadata": {},
   "source": [
    "Use case:\n",
    "\n",
    "Stacked: Tests, 1945 to 2022\n",
    "\n",
    "https://plotly.com/python/bar-charts/#basic-bar-charts-with-plotlygraphobjects"
   ]
  },
  {
   "cell_type": "code",
   "execution_count": null,
   "id": "54f073fc-d3a6-423d-8fbe-b1baf5e2f430",
   "metadata": {},
   "outputs": [],
   "source": [
    "fig = go.Figure()\n",
    "\n",
    "# for loop tba\n",
    "\n",
    "# traceS ??? tba\n",
    "\n",
    "fig.add_trace(go.Bar(\n",
    "    x=x,\n",
    "    y=y,\n",
    "    name=name,\n",
    "    hovertext=hovertext, # list ?\n",
    ")\n",
    " \n",
    "fig.update_traces(\n",
    "    marker_color=marker_color,\n",
    "    marker_line_color=marker_line_color,\n",
    "    marker_line_width=1.5,\n",
    "    opacity=0.6,\n",
    ")\n",
    "\n",
    "# choose barmode group or stacked?\n",
    "    \n",
    "fig.update_layout(\n",
    "    barmode='group', # \"stack\"\n",
    "    title_text=title_text,\n",
    ")"
   ]
  },
  {
   "cell_type": "markdown",
   "id": "784e747e-1626-4ce2-a7f4-9d563722b02f",
   "metadata": {},
   "source": [
    "# BAR HORIZONTAL"
   ]
  },
  {
   "cell_type": "markdown",
   "id": "2b2971f4-9f5e-4198-9cb7-b5d95fbdc4fe",
   "metadata": {},
   "source": [
    "Use case:\n",
    "\n",
    "Warhead inventories, 2022\n",
    "\n",
    "https://plotly.com/python/horizontal-bar-charts/#horizontal-bar-chart-with-gobar"
   ]
  },
  {
   "cell_type": "code",
   "execution_count": null,
   "id": "1ab8b681-7336-4037-a501-1f5d80826873",
   "metadata": {},
   "outputs": [],
   "source": [
    "fig = go.Figure()\n",
    "\n",
    "# for loop tba\n",
    "\n",
    "fig.add_trace(go.Bar(\n",
    "    x=x,\n",
    "    y=y,\n",
    "    name=name,\n",
    "    hovertext=hovertext, # list ?\n",
    ")\n",
    " \n",
    "fig.update_traces(\n",
    "    marker_color=marker_color,\n",
    "    marker_line_color=marker_line_color,\n",
    "    marker_line_width=1.5,\n",
    "    opacity=0.6,\n",
    ")\n",
    "\n",
    "# choose barmode group or stacked?\n",
    "    \n",
    "fig.update_layout(\n",
    "    barmode='stack', # group, stack\n",
    "    title_text=title_text,\n",
    ")"
   ]
  },
  {
   "cell_type": "markdown",
   "id": "33343da1-5915-48d6-92a1-667c949b40b4",
   "metadata": {},
   "source": [
    "# STATISTICAL METHODS"
   ]
  },
  {
   "cell_type": "markdown",
   "id": "7e1704d3-d4f9-4a12-879c-af5cc08ff8b0",
   "metadata": {},
   "source": [
    "# HEATMAP"
   ]
  },
  {
   "cell_type": "markdown",
   "id": "dbf7fc76-67eb-4e9f-853c-fc21be1d4212",
   "metadata": {},
   "source": [
    "https://plotly.com/python/heatmaps/"
   ]
  },
  {
   "cell_type": "markdown",
   "id": "35e85156-8ed9-436c-97c5-74f5adf76908",
   "metadata": {},
   "source": [
    "# CORRELATIONS ..."
   ]
  },
  {
   "cell_type": "markdown",
   "id": "c7d4fe34-ce7b-4b96-a06b-c5a9fc75b278",
   "metadata": {},
   "source": [
    "# REGRESSION"
   ]
  },
  {
   "cell_type": "markdown",
   "id": "c14f5149-da53-46f1-97cd-08ec5cf19574",
   "metadata": {},
   "source": [
    "https://plotly.com/python/linear-fits/"
   ]
  },
  {
   "cell_type": "code",
   "execution_count": null,
   "id": "16c5eb9e-c308-4874-b175-68ccbe7ce288",
   "metadata": {},
   "outputs": [],
   "source": []
  }
 ],
 "metadata": {
  "kernelspec": {
   "display_name": "VIZ",
   "language": "python",
   "name": "viz"
  },
  "language_info": {
   "codemirror_mode": {
    "name": "ipython",
    "version": 3
   },
   "file_extension": ".py",
   "mimetype": "text/x-python",
   "name": "python",
   "nbconvert_exporter": "python",
   "pygments_lexer": "ipython3",
   "version": "3.10.8"
  }
 },
 "nbformat": 4,
 "nbformat_minor": 5
}

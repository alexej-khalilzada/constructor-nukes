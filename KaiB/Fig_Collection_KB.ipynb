{
 "cells": [
  {
   "cell_type": "code",
   "execution_count": 10,
   "id": "ddcfccdf-7d62-491e-b26a-c091e8edff6a",
   "metadata": {},
   "outputs": [
    {
     "data": {
      "text/html": [
       "<div>\n",
       "<style scoped>\n",
       "    .dataframe tbody tr th:only-of-type {\n",
       "        vertical-align: middle;\n",
       "    }\n",
       "\n",
       "    .dataframe tbody tr th {\n",
       "        vertical-align: top;\n",
       "    }\n",
       "\n",
       "    .dataframe thead th {\n",
       "        text-align: right;\n",
       "    }\n",
       "</style>\n",
       "<table border=\"1\" class=\"dataframe\">\n",
       "  <thead>\n",
       "    <tr style=\"text-align: right;\">\n",
       "      <th></th>\n",
       "      <th>Entity</th>\n",
       "      <th>Code</th>\n",
       "      <th>Year</th>\n",
       "      <th>Individuals using the Internet (% of population)</th>\n",
       "    </tr>\n",
       "  </thead>\n",
       "  <tbody>\n",
       "    <tr>\n",
       "      <th>0</th>\n",
       "      <td>Afghanistan</td>\n",
       "      <td>AFG</td>\n",
       "      <td>1990</td>\n",
       "      <td>0.0</td>\n",
       "    </tr>\n",
       "    <tr>\n",
       "      <th>1</th>\n",
       "      <td>Afghanistan</td>\n",
       "      <td>AFG</td>\n",
       "      <td>1991</td>\n",
       "      <td>0.0</td>\n",
       "    </tr>\n",
       "    <tr>\n",
       "      <th>2</th>\n",
       "      <td>Afghanistan</td>\n",
       "      <td>AFG</td>\n",
       "      <td>1992</td>\n",
       "      <td>0.0</td>\n",
       "    </tr>\n",
       "    <tr>\n",
       "      <th>3</th>\n",
       "      <td>Afghanistan</td>\n",
       "      <td>AFG</td>\n",
       "      <td>1993</td>\n",
       "      <td>0.0</td>\n",
       "    </tr>\n",
       "    <tr>\n",
       "      <th>4</th>\n",
       "      <td>Afghanistan</td>\n",
       "      <td>AFG</td>\n",
       "      <td>1994</td>\n",
       "      <td>0.0</td>\n",
       "    </tr>\n",
       "  </tbody>\n",
       "</table>\n",
       "</div>"
      ],
      "text/plain": [
       "        Entity Code  Year  Individuals using the Internet (% of population)\n",
       "0  Afghanistan  AFG  1990                                               0.0\n",
       "1  Afghanistan  AFG  1991                                               0.0\n",
       "2  Afghanistan  AFG  1992                                               0.0\n",
       "3  Afghanistan  AFG  1993                                               0.0\n",
       "4  Afghanistan  AFG  1994                                               0.0"
      ]
     },
     "execution_count": 10,
     "metadata": {},
     "output_type": "execute_result"
    }
   ],
   "source": [
    "import pandas as pd\n",
    "import plotly.express as px\n",
    "import json\n",
    "import plotly.graph_objects as go\n",
    "\n",
    "# Read in the data\n",
    "\n",
    "df_int = pd.read_csv(\"data/share-of-individuals-using-the-internet.csv\")\n",
    "df_int.head()"
   ]
  },
  {
   "cell_type": "code",
   "execution_count": 11,
   "id": "6e584af9-0196-48e5-949f-7f93f6458972",
   "metadata": {},
   "outputs": [
    {
     "data": {
      "text/html": [
       "<div>\n",
       "<style scoped>\n",
       "    .dataframe tbody tr th:only-of-type {\n",
       "        vertical-align: middle;\n",
       "    }\n",
       "\n",
       "    .dataframe tbody tr th {\n",
       "        vertical-align: top;\n",
       "    }\n",
       "\n",
       "    .dataframe thead th {\n",
       "        text-align: right;\n",
       "    }\n",
       "</style>\n",
       "<table border=\"1\" class=\"dataframe\">\n",
       "  <thead>\n",
       "    <tr style=\"text-align: right;\">\n",
       "      <th></th>\n",
       "      <th>Code</th>\n",
       "      <th>most_recent_year</th>\n",
       "      <th>Entity</th>\n",
       "      <th>Year</th>\n",
       "      <th>Individuals using the Internet (% of population)</th>\n",
       "    </tr>\n",
       "  </thead>\n",
       "  <tbody>\n",
       "    <tr>\n",
       "      <th>25</th>\n",
       "      <td>ABW</td>\n",
       "      <td>2017</td>\n",
       "      <td>Aruba</td>\n",
       "      <td>2017</td>\n",
       "      <td>97.170000</td>\n",
       "    </tr>\n",
       "    <tr>\n",
       "      <th>47</th>\n",
       "      <td>AFG</td>\n",
       "      <td>2017</td>\n",
       "      <td>Afghanistan</td>\n",
       "      <td>2017</td>\n",
       "      <td>11.447688</td>\n",
       "    </tr>\n",
       "    <tr>\n",
       "      <th>75</th>\n",
       "      <td>AGO</td>\n",
       "      <td>2017</td>\n",
       "      <td>Angola</td>\n",
       "      <td>2017</td>\n",
       "      <td>14.339079</td>\n",
       "    </tr>\n",
       "    <tr>\n",
       "      <th>104</th>\n",
       "      <td>ALB</td>\n",
       "      <td>2019</td>\n",
       "      <td>Albania</td>\n",
       "      <td>2019</td>\n",
       "      <td>69.642855</td>\n",
       "    </tr>\n",
       "    <tr>\n",
       "      <th>131</th>\n",
       "      <td>AND</td>\n",
       "      <td>2017</td>\n",
       "      <td>Andorra</td>\n",
       "      <td>2017</td>\n",
       "      <td>91.567467</td>\n",
       "    </tr>\n",
       "  </tbody>\n",
       "</table>\n",
       "</div>"
      ],
      "text/plain": [
       "    Code  most_recent_year       Entity  Year  \\\n",
       "25   ABW              2017        Aruba  2017   \n",
       "47   AFG              2017  Afghanistan  2017   \n",
       "75   AGO              2017       Angola  2017   \n",
       "104  ALB              2019      Albania  2019   \n",
       "131  AND              2017      Andorra  2017   \n",
       "\n",
       "     Individuals using the Internet (% of population)  \n",
       "25                                          97.170000  \n",
       "47                                          11.447688  \n",
       "75                                          14.339079  \n",
       "104                                         69.642855  \n",
       "131                                         91.567467  "
      ]
     },
     "execution_count": 11,
     "metadata": {},
     "output_type": "execute_result"
    }
   ],
   "source": [
    "# Select data from the most recent YEAR for each COUNTRY\n",
    "\n",
    "countries = []\n",
    "mr_year = []\n",
    "\n",
    "for grp, df in df_int.groupby(\"Code\"):\n",
    "    countries.append(grp)\n",
    "    #print(\"GRP:\", grp)\n",
    "    mr_year.append(df[\"Year\"].max())\n",
    "    #print(\"YEAR:\", df[\"Year\"].max())\n",
    "\n",
    "df_years = pd.DataFrame({\"Code\": countries, \"most_recent_year\": mr_year})\n",
    "\n",
    "df_rec = pd.merge(df_years, df_int)\n",
    "df_rec = df_rec[df_rec[\"Year\"]==df_rec[\"most_recent_year\"]]\n",
    "df_rec.head()"
   ]
  },
  {
   "cell_type": "code",
   "execution_count": 12,
   "id": "98f9a756-b783-4c3f-96b5-1a0793d715fd",
   "metadata": {},
   "outputs": [
    {
     "data": {
      "text/html": [
       "<div>\n",
       "<style scoped>\n",
       "    .dataframe tbody tr th:only-of-type {\n",
       "        vertical-align: middle;\n",
       "    }\n",
       "\n",
       "    .dataframe tbody tr th {\n",
       "        vertical-align: top;\n",
       "    }\n",
       "\n",
       "    .dataframe thead th {\n",
       "        text-align: right;\n",
       "    }\n",
       "</style>\n",
       "<table border=\"1\" class=\"dataframe\">\n",
       "  <thead>\n",
       "    <tr style=\"text-align: right;\">\n",
       "      <th></th>\n",
       "      <th>Code</th>\n",
       "      <th>most_recent_year</th>\n",
       "      <th>Country</th>\n",
       "      <th>Year</th>\n",
       "      <th>Percentage</th>\n",
       "    </tr>\n",
       "  </thead>\n",
       "  <tbody>\n",
       "    <tr>\n",
       "      <th>25</th>\n",
       "      <td>ABW</td>\n",
       "      <td>2017</td>\n",
       "      <td>Aruba</td>\n",
       "      <td>2017</td>\n",
       "      <td>97.170000</td>\n",
       "    </tr>\n",
       "    <tr>\n",
       "      <th>47</th>\n",
       "      <td>AFG</td>\n",
       "      <td>2017</td>\n",
       "      <td>Afghanistan</td>\n",
       "      <td>2017</td>\n",
       "      <td>11.447688</td>\n",
       "    </tr>\n",
       "    <tr>\n",
       "      <th>75</th>\n",
       "      <td>AGO</td>\n",
       "      <td>2017</td>\n",
       "      <td>Angola</td>\n",
       "      <td>2017</td>\n",
       "      <td>14.339079</td>\n",
       "    </tr>\n",
       "    <tr>\n",
       "      <th>104</th>\n",
       "      <td>ALB</td>\n",
       "      <td>2019</td>\n",
       "      <td>Albania</td>\n",
       "      <td>2019</td>\n",
       "      <td>69.642855</td>\n",
       "    </tr>\n",
       "    <tr>\n",
       "      <th>131</th>\n",
       "      <td>AND</td>\n",
       "      <td>2017</td>\n",
       "      <td>Andorra</td>\n",
       "      <td>2017</td>\n",
       "      <td>91.567467</td>\n",
       "    </tr>\n",
       "  </tbody>\n",
       "</table>\n",
       "</div>"
      ],
      "text/plain": [
       "    Code  most_recent_year      Country  Year  Percentage\n",
       "25   ABW              2017        Aruba  2017   97.170000\n",
       "47   AFG              2017  Afghanistan  2017   11.447688\n",
       "75   AGO              2017       Angola  2017   14.339079\n",
       "104  ALB              2019      Albania  2019   69.642855\n",
       "131  AND              2017      Andorra  2017   91.567467"
      ]
     },
     "execution_count": 12,
     "metadata": {},
     "output_type": "execute_result"
    }
   ],
   "source": [
    "df_rec.rename(columns = {\"Individuals using the Internet (% of population)\": \"Percentage\", \"Entity\": \"Country\"}, inplace = True)\n",
    "df_rec.head()"
   ]
  },
  {
   "cell_type": "markdown",
   "id": "2ef3d48e-96e3-4429-86dd-c14e0e627466",
   "metadata": {},
   "source": [
    "# CHOROPLETH 3D TEST WITH INTERNET DATA"
   ]
  },
  {
   "cell_type": "code",
   "execution_count": 14,
   "id": "9bb7dff4-5d3b-4332-992d-7c7f7348dbe9",
   "metadata": {},
   "outputs": [],
   "source": [
    "def cplot(df):\n",
    "    fig = go.Figure(data=go.Choropleth(\n",
    "        locations=df['Code'],\n",
    "        z=df['Percentage'],\n",
    "        colorscale='ice',\n",
    "\n",
    "        text=df['Country'],  # hover text\n",
    "        marker_line_color='white',  # line markers between states\n",
    "        colorbar_title=\"% Pop.\", marker_line_width=0)\n",
    "    )\n",
    "\n",
    "    #fig.update_layout(title_text='World wide web usage,')\n",
    "    fig.update_layout(margin=dict(l=50, r=50, t=50, b=50), height=640,\n",
    "                      plot_bgcolor=\"#0e1117\",\n",
    "                      paper_bgcolor=\"#0e1117\",\n",
    "                      font_color=\"white\",\n",
    "                      geo_bgcolor=\"#0e1117\",\n",
    "                      )\n",
    "    fig.update_geos(showlakes=False,\n",
    "                    projection_type=\"orthographic\",\n",
    "                    projection_rotation=dict(lon=10, lat=45, roll=0),\n",
    "                    )\n",
    "    #fig.update_traces(unselected_marker_opacity=0.5, selector=dict(type='choropleth'))\n",
    "    title='Im a title'\n",
    "    description = 'Example description'\n",
    "    key='inetusage'\n",
    "    lib = 'plotly_go'\n",
    "    info_dict=dict(title=title, description=description, lib=lib)\n",
    "    return (key,fig,info_dict)"
   ]
  },
  {
   "cell_type": "code",
   "execution_count": 6,
   "id": "fa5aafb3-668f-4f9d-8b45-3ef672e9d5c4",
   "metadata": {},
   "outputs": [],
   "source": [
    "plot1 = cplot(df_rec)\n",
    "plots = []\n",
    "plots.append(plot1)\n",
    "def get_plots():\n",
    "    return plots"
   ]
  },
  {
   "cell_type": "code",
   "execution_count": 24,
   "id": "b8eb9617-912d-4a57-bfd4-d9ff0cf11f66",
   "metadata": {
    "collapsed": true,
    "jupyter": {
     "outputs_hidden": true,
     "source_hidden": true
    },
    "tags": []
   },
   "outputs": [
    {
     "ename": "NameError",
     "evalue": "name 'fig' is not defined",
     "output_type": "error",
     "traceback": [
      "\u001b[1;31m---------------------------------------------------------------------------\u001b[0m",
      "\u001b[1;31mNameError\u001b[0m                                 Traceback (most recent call last)",
      "Input \u001b[1;32mIn [24]\u001b[0m, in \u001b[0;36m<cell line: 1>\u001b[1;34m()\u001b[0m\n\u001b[1;32m----> 1\u001b[0m plot1(\u001b[43mfig\u001b[49m)\u001b[38;5;241m.\u001b[39mshow()\n",
      "\u001b[1;31mNameError\u001b[0m: name 'fig' is not defined"
     ]
    }
   ],
   "source": [
    "plot1(fig).show()"
   ]
  },
  {
   "cell_type": "markdown",
   "id": "bb68ca53-f2bd-4fbb-83fc-8770b6392c18",
   "metadata": {
    "jupyter": {
     "source_hidden": true
    },
    "tags": []
   },
   "source": [
    "# SCATTER MARKERS"
   ]
  },
  {
   "cell_type": "code",
   "execution_count": 26,
   "id": "0e44cd09-abb5-4a1b-8aaf-8e78beb4adcc",
   "metadata": {
    "collapsed": true,
    "jupyter": {
     "outputs_hidden": true,
     "source_hidden": true
    },
    "tags": []
   },
   "outputs": [
    {
     "ename": "NameError",
     "evalue": "name 't' is not defined",
     "output_type": "error",
     "traceback": [
      "\u001b[1;31m---------------------------------------------------------------------------\u001b[0m",
      "\u001b[1;31mNameError\u001b[0m                                 Traceback (most recent call last)",
      "Input \u001b[1;32mIn [26]\u001b[0m, in \u001b[0;36m<cell line: 1>\u001b[1;34m()\u001b[0m\n\u001b[1;32m----> 1\u001b[0m fig \u001b[38;5;241m=\u001b[39m go\u001b[38;5;241m.\u001b[39mFigure(data\u001b[38;5;241m=\u001b[39mgo\u001b[38;5;241m.\u001b[39mScatter(x\u001b[38;5;241m=\u001b[39m\u001b[43mt\u001b[49m, y\u001b[38;5;241m=\u001b[39my, mode\u001b[38;5;241m=\u001b[39m\u001b[38;5;124m'\u001b[39m\u001b[38;5;124mmarkers\u001b[39m\u001b[38;5;124m'\u001b[39m))\n\u001b[0;32m      3\u001b[0m fig\u001b[38;5;241m.\u001b[39mshow()\n",
      "\u001b[1;31mNameError\u001b[0m: name 't' is not defined"
     ]
    }
   ],
   "source": [
    "fig = go.Figure(data=go.Scatter\n",
    "                (x=t,\n",
    "                 y=y,\n",
    "                 mode='markers',\n",
    "                 name=name, # legend\n",
    "                 text=data # hover text\n",
    "                ))\n",
    "\n",
    "fig.update_layout(title=title)\n",
    "\n",
    "fig.show()"
   ]
  },
  {
   "cell_type": "markdown",
   "id": "cb29611b-9a4a-41af-bf5a-a7414c2010b8",
   "metadata": {},
   "source": [
    "# CHOROPLETH 3D"
   ]
  },
  {
   "cell_type": "code",
   "execution_count": null,
   "id": "9ad4a708-4c11-44d6-affa-711fde96116f",
   "metadata": {},
   "outputs": [],
   "source": [
    "fig = go.Figure(data=go.Choropleth(\n",
    "    locations=locations,\n",
    "    z=z, # Data to be color-coded\n",
    "    colorscale=colorscale,\n",
    "    name=name, # legend\n",
    "    text=text, # hover text\n",
    "    marker_line_color=marker_line_color,  # line markers between states\n",
    "    marker_line_width=0,\n",
    "    colorbar_title=colorbar_title,\n",
    "))\n",
    "\n",
    "fig.update_layout(\n",
    "    title_text=title_text,\n",
    "    margin=dict(l=50, r=50, t=50, b=50),\n",
    "    height=640,\n",
    "    plot_bgcolor=\"#0e1117\",\n",
    "    paper_bgcolor=\"#0e1117\",\n",
    "    font_color=\"white\",\n",
    "    geo_bgcolor=\"#0e1117\",\n",
    ")\n",
    "\n",
    "fig.update_geos(\n",
    "    showlakes=False,\n",
    "    projection_type=\"orthographic\",\n",
    "    projection_rotation=dict(lon=10, lat=45, roll=0),\n",
    ")"
   ]
  },
  {
   "cell_type": "markdown",
   "id": "39b656e3-b89d-4a3c-ab7f-749fc2cd7e3b",
   "metadata": {},
   "source": [
    "# CHOROPLETH 2D"
   ]
  },
  {
   "cell_type": "code",
   "execution_count": null,
   "id": "22ece0a3-3f28-4e69-9297-448ef2fe7667",
   "metadata": {},
   "outputs": [],
   "source": [
    "fig = go.Figure(data=go.Choropleth(\n",
    "    locations=locations,\n",
    "    z=z, # Data to be color-coded\n",
    "    colorscale=colorscale,\n",
    "    name=name, # legend\n",
    "    text=text, # hover text\n",
    "    marker_line_color=marker_line_color,  # line markers between states\n",
    "    marker_line_width=0,\n",
    "    colorbar_title=colorbar_title,\n",
    "))\n",
    "\n",
    "fig.update_layout(\n",
    "    title_text=title_text,\n",
    "    margin=dict(l=50, r=50, t=50, b=50),\n",
    "    height=640,\n",
    "    plot_bgcolor=\"#0e1117\",\n",
    "    paper_bgcolor=\"#0e1117\",\n",
    "    font_color=\"white\",\n",
    "    geo_bgcolor=\"#0e1117\",\n",
    ")"
   ]
  },
  {
   "cell_type": "markdown",
   "id": "49a9e042-87ae-488c-93d9-3647264ed752",
   "metadata": {},
   "source": [
    "# BUBBLE MAP"
   ]
  },
  {
   "cell_type": "code",
   "execution_count": null,
   "id": "b57faa29-4dcf-4289-8aa3-e99495d45957",
   "metadata": {},
   "outputs": [],
   "source": [
    "#limits = [(0,2),(3,10),(11,20),(21,50),(50,3000)]\n",
    "# colors = [\"royalblue\",\"crimson\",\"lightseagreen\",\"orange\",\"lightgrey\"]\n",
    "\n",
    "fig = go.Figure()\n",
    "\n",
    "for i in range(len(limits)):\n",
    "    lim = limits[i]\n",
    "    df_sub = df[lim[0]:lim[1]]\n",
    "    fig.add_trace(go.Scattergeo(\n",
    "        locationmode = 'country names',\n",
    "        lon = df_sub['lon'],\n",
    "        lat = df_sub['lat'],\n",
    "        text = df_sub['text'],\n",
    "        marker = dict(\n",
    "            size = df_sub[COLUMN]/scale,\n",
    "            color = colors[i],\n",
    "            line_color='rgb(40,40,40)',\n",
    "            line_width=0.5,\n",
    "            sizemode = 'area'\n",
    "        ),\n",
    "        name = '{0} - {1}'.format(lim[0],lim[1])))\n",
    "\n",
    "fig.update_layout(\n",
    "        title_text = '2014 US city populations<br>(Click legend to toggle traces)',\n",
    "        showlegend = True,\n",
    "        geo = dict(\n",
    "            scope = 'usa',\n",
    "            landcolor = 'rgb(217, 217, 217)',\n",
    "        )\n",
    "    )"
   ]
  },
  {
   "cell_type": "code",
   "execution_count": 34,
   "id": "1e76b93d-b8f7-431f-b15c-02654497709b",
   "metadata": {},
   "outputs": [
    {
     "data": {
      "text/plain": [
       "\u001b[1;31mType:\u001b[0m        property\n",
       "\u001b[1;31mString form:\u001b[0m <property object at 0x0000016F556D3B00>\n",
       "\u001b[1;31mDocstring:\u001b[0m  \n",
       "Determines the set of locations used to match entries in\n",
       "`locations` to regions on the map. Values \"ISO-3\", \"USA-\n",
       "states\", *country names* correspond to features on the base map\n",
       "and value \"geojson-id\" corresponds to features from a custom\n",
       "GeoJSON linked to the `geojson` attribute.\n",
       "\n",
       "The 'locationmode' property is an enumeration that may be specified as:\n",
       "  - One of the following enumeration values:\n",
       "        ['ISO-3', 'USA-states', 'country names', 'geojson-id']\n",
       "\n",
       "Returns\n",
       "-------\n",
       "Any\n"
      ]
     },
     "metadata": {},
     "output_type": "display_data"
    }
   ],
   "source": [
    "?go.Scattergeo.locationmode"
   ]
  },
  {
   "cell_type": "markdown",
   "id": "0dd1e022-5b6c-458f-b1de-1c3d894b3e2c",
   "metadata": {},
   "source": [
    "# SCATTER LINE"
   ]
  },
  {
   "cell_type": "code",
   "execution_count": null,
   "id": "b12e7c82-289a-4def-85e7-0707b16d77f1",
   "metadata": {},
   "outputs": [],
   "source": [
    "fig = go.Figure(data=go.Scatter(\n",
    "    x=x,\n",
    "    y=y,\n",
    "    mode=\"lines\",\n",
    "    name=name, # legend\n",
    "    text=data # hover text\n",
    "))\n",
    "\n",
    "fig.update_layout(title=title)"
   ]
  },
  {
   "cell_type": "markdown",
   "id": "55c17617-0cf4-4fd6-8dc9-31b9427c933a",
   "metadata": {},
   "source": [
    "# SCATTER MARKER BUBBLES"
   ]
  },
  {
   "cell_type": "code",
   "execution_count": null,
   "id": "f96ae7f0-67cb-4676-894a-7f8d3437e79a",
   "metadata": {},
   "outputs": [],
   "source": [
    "fig = go.Figure(data=go.Scatter(\n",
    "    x=x,\n",
    "    y=y,\n",
    "    mode='markers',\n",
    "    marker=dict(\n",
    "        symbol=symbol,\n",
    "        sizemode=sizemode, # area\n",
    "        size=marker_size,\n",
    "        sizeref=sizeref, # max(df[column])*0.01\n",
    "        color=marker_color),\n",
    "        name=name, # legend\n",
    "        text=data, # hover text\n",
    "        hovertemplate=hovertemplate,\n",
    "))\n",
    "\n",
    "fig.update_layout(title=title)"
   ]
  },
  {
   "cell_type": "markdown",
   "id": "929ea6a9-8c8b-40b6-8b68-f5ee93a555de",
   "metadata": {},
   "source": [
    "# BAR VERTICAL (GROUP AND STACKED IN ONE FUNCTION?)"
   ]
  },
  {
   "cell_type": "code",
   "execution_count": null,
   "id": "54f073fc-d3a6-423d-8fbe-b1baf5e2f430",
   "metadata": {},
   "outputs": [],
   "source": [
    "fig = go.Figure()\n",
    "\n",
    "# for loop tba\n",
    "\n",
    "# traceS ??? tba\n",
    "\n",
    "fig.add_trace(go.Bar(\n",
    "    x=x,\n",
    "    y=y,\n",
    "    name=name,\n",
    "    hovertext=hovertext, # list ?\n",
    ")\n",
    " \n",
    "fig.update_traces(\n",
    "    marker_color=marker_color,\n",
    "    marker_line_color=marker_line_color,\n",
    "    marker_line_width=1.5,\n",
    "    opacity=0.6,\n",
    ")\n",
    "\n",
    "# choose barmode group or stacked?\n",
    "    \n",
    "fig.update_layout(\n",
    "    barmode='group', # \"stack\"\n",
    "    title_text=title_text,\n",
    ")"
   ]
  },
  {
   "cell_type": "markdown",
   "id": "784e747e-1626-4ce2-a7f4-9d563722b02f",
   "metadata": {},
   "source": [
    "# BAR HORIZONTAL"
   ]
  },
  {
   "cell_type": "code",
   "execution_count": null,
   "id": "1ab8b681-7336-4037-a501-1f5d80826873",
   "metadata": {},
   "outputs": [],
   "source": [
    "fig = go.Figure()\n",
    "\n",
    "# for loop tba\n",
    "\n",
    "fig.add_trace(go.Bar(\n",
    "    x=x,\n",
    "    y=y,\n",
    "    name=name,\n",
    "    hovertext=hovertext, # list ?\n",
    ")\n",
    " \n",
    "fig.update_traces(\n",
    "    marker_color=marker_color,\n",
    "    marker_line_color=marker_line_color,\n",
    "    marker_line_width=1.5,\n",
    "    opacity=0.6,\n",
    ")\n",
    "\n",
    "# choose barmode group or stacked?\n",
    "    \n",
    "fig.update_layout(\n",
    "    barmode='group', # \"stack\"\n",
    "    title_text=title_text,\n",
    ")"
   ]
  }
 ],
 "metadata": {
  "kernelspec": {
   "display_name": "VIZ",
   "language": "python",
   "name": "viz"
  },
  "language_info": {
   "codemirror_mode": {
    "name": "ipython",
    "version": 3
   },
   "file_extension": ".py",
   "mimetype": "text/x-python",
   "name": "python",
   "nbconvert_exporter": "python",
   "pygments_lexer": "ipython3",
   "version": "3.10.8"
  }
 },
 "nbformat": 4,
 "nbformat_minor": 5
}
